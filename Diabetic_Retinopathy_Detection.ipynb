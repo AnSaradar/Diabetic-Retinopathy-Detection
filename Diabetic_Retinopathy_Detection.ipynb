{
  "cells": [
    {
      "cell_type": "markdown",
      "metadata": {
        "id": "V8BetczbtEwl"
      },
      "source": [
        "# Importing the dataset"
      ]
    },
    {
      "cell_type": "code",
      "execution_count": 1,
      "metadata": {
        "colab": {
          "base_uri": "https://localhost:8080/"
        },
        "id": "K1IMxylts-QY",
        "outputId": "e5e676b5-df71-451f-ee7d-8bce465fa33c"
      },
      "outputs": [
        {
          "output_type": "stream",
          "name": "stdout",
          "text": [
            "Cloning into 'diabetic-retinopathy'...\n",
            "remote: Enumerating objects: 5626, done.\u001b[K\n",
            "remote: Total 5626 (delta 0), reused 0 (delta 0), pack-reused 5626\u001b[K\n",
            "Receiving objects: 100% (5626/5626), 757.22 MiB | 26.03 MiB/s, done.\n",
            "Resolving deltas: 100% (18/18), done.\n",
            "Updating files: 100% (2784/2784), done.\n"
          ]
        }
      ],
      "source": [
        "!git clone https://github.com/kumailht/diabetic-retinopathy"
      ]
    },
    {
      "cell_type": "markdown",
      "metadata": {
        "id": "Xc8vbAAQtdyt"
      },
      "source": [
        "# Importing Libraries"
      ]
    },
    {
      "cell_type": "code",
      "source": [
        "!pip install -q efficientnet\n",
        "!pip install streamlit"
      ],
      "metadata": {
        "colab": {
          "base_uri": "https://localhost:8080/"
        },
        "id": "WYtcZznpT9HU",
        "outputId": "5dff309f-7462-495a-bf09-45db8cca33c9"
      },
      "execution_count": 2,
      "outputs": [
        {
          "output_type": "stream",
          "name": "stdout",
          "text": [
            "\u001b[2K     \u001b[90m━━━━━━━━━━━━━━━━━━━━━━━━━━━━━━━━━━━━━━━━\u001b[0m \u001b[32m50.7/50.7 kB\u001b[0m \u001b[31m2.7 MB/s\u001b[0m eta \u001b[36m0:00:00\u001b[0m\n",
            "\u001b[?25hCollecting streamlit\n",
            "  Downloading streamlit-1.32.2-py2.py3-none-any.whl (8.1 MB)\n",
            "\u001b[2K     \u001b[90m━━━━━━━━━━━━━━━━━━━━━━━━━━━━━━━━━━━━━━━━\u001b[0m \u001b[32m8.1/8.1 MB\u001b[0m \u001b[31m27.2 MB/s\u001b[0m eta \u001b[36m0:00:00\u001b[0m\n",
            "\u001b[?25hRequirement already satisfied: altair<6,>=4.0 in /usr/local/lib/python3.10/dist-packages (from streamlit) (4.2.2)\n",
            "Requirement already satisfied: blinker<2,>=1.0.0 in /usr/lib/python3/dist-packages (from streamlit) (1.4)\n",
            "Requirement already satisfied: cachetools<6,>=4.0 in /usr/local/lib/python3.10/dist-packages (from streamlit) (5.3.3)\n",
            "Requirement already satisfied: click<9,>=7.0 in /usr/local/lib/python3.10/dist-packages (from streamlit) (8.1.7)\n",
            "Requirement already satisfied: numpy<2,>=1.19.3 in /usr/local/lib/python3.10/dist-packages (from streamlit) (1.25.2)\n",
            "Collecting packaging<24,>=16.8 (from streamlit)\n",
            "  Downloading packaging-23.2-py3-none-any.whl (53 kB)\n",
            "\u001b[2K     \u001b[90m━━━━━━━━━━━━━━━━━━━━━━━━━━━━━━━━━━━━━━━━\u001b[0m \u001b[32m53.0/53.0 kB\u001b[0m \u001b[31m7.0 MB/s\u001b[0m eta \u001b[36m0:00:00\u001b[0m\n",
            "\u001b[?25hRequirement already satisfied: pandas<3,>=1.3.0 in /usr/local/lib/python3.10/dist-packages (from streamlit) (1.5.3)\n",
            "Requirement already satisfied: pillow<11,>=7.1.0 in /usr/local/lib/python3.10/dist-packages (from streamlit) (9.4.0)\n",
            "Requirement already satisfied: protobuf<5,>=3.20 in /usr/local/lib/python3.10/dist-packages (from streamlit) (3.20.3)\n",
            "Requirement already satisfied: pyarrow>=7.0 in /usr/local/lib/python3.10/dist-packages (from streamlit) (14.0.2)\n",
            "Requirement already satisfied: requests<3,>=2.27 in /usr/local/lib/python3.10/dist-packages (from streamlit) (2.31.0)\n",
            "Requirement already satisfied: rich<14,>=10.14.0 in /usr/local/lib/python3.10/dist-packages (from streamlit) (13.7.1)\n",
            "Requirement already satisfied: tenacity<9,>=8.1.0 in /usr/local/lib/python3.10/dist-packages (from streamlit) (8.2.3)\n",
            "Requirement already satisfied: toml<2,>=0.10.1 in /usr/local/lib/python3.10/dist-packages (from streamlit) (0.10.2)\n",
            "Requirement already satisfied: typing-extensions<5,>=4.3.0 in /usr/local/lib/python3.10/dist-packages (from streamlit) (4.10.0)\n",
            "Collecting gitpython!=3.1.19,<4,>=3.0.7 (from streamlit)\n",
            "  Downloading GitPython-3.1.43-py3-none-any.whl (207 kB)\n",
            "\u001b[2K     \u001b[90m━━━━━━━━━━━━━━━━━━━━━━━━━━━━━━━━━━━━━━━━\u001b[0m \u001b[32m207.3/207.3 kB\u001b[0m \u001b[31m26.9 MB/s\u001b[0m eta \u001b[36m0:00:00\u001b[0m\n",
            "\u001b[?25hCollecting pydeck<1,>=0.8.0b4 (from streamlit)\n",
            "  Downloading pydeck-0.8.1b0-py2.py3-none-any.whl (4.8 MB)\n",
            "\u001b[2K     \u001b[90m━━━━━━━━━━━━━━━━━━━━━━━━━━━━━━━━━━━━━━━━\u001b[0m \u001b[32m4.8/4.8 MB\u001b[0m \u001b[31m57.5 MB/s\u001b[0m eta \u001b[36m0:00:00\u001b[0m\n",
            "\u001b[?25hRequirement already satisfied: tornado<7,>=6.0.3 in /usr/local/lib/python3.10/dist-packages (from streamlit) (6.3.3)\n",
            "Collecting watchdog>=2.1.5 (from streamlit)\n",
            "  Downloading watchdog-4.0.0-py3-none-manylinux2014_x86_64.whl (82 kB)\n",
            "\u001b[2K     \u001b[90m━━━━━━━━━━━━━━━━━━━━━━━━━━━━━━━━━━━━━━━━\u001b[0m \u001b[32m83.0/83.0 kB\u001b[0m \u001b[31m11.8 MB/s\u001b[0m eta \u001b[36m0:00:00\u001b[0m\n",
            "\u001b[?25hRequirement already satisfied: entrypoints in /usr/local/lib/python3.10/dist-packages (from altair<6,>=4.0->streamlit) (0.4)\n",
            "Requirement already satisfied: jinja2 in /usr/local/lib/python3.10/dist-packages (from altair<6,>=4.0->streamlit) (3.1.3)\n",
            "Requirement already satisfied: jsonschema>=3.0 in /usr/local/lib/python3.10/dist-packages (from altair<6,>=4.0->streamlit) (4.19.2)\n",
            "Requirement already satisfied: toolz in /usr/local/lib/python3.10/dist-packages (from altair<6,>=4.0->streamlit) (0.12.1)\n",
            "Collecting gitdb<5,>=4.0.1 (from gitpython!=3.1.19,<4,>=3.0.7->streamlit)\n",
            "  Downloading gitdb-4.0.11-py3-none-any.whl (62 kB)\n",
            "\u001b[2K     \u001b[90m━━━━━━━━━━━━━━━━━━━━━━━━━━━━━━━━━━━━━━━━\u001b[0m \u001b[32m62.7/62.7 kB\u001b[0m \u001b[31m8.8 MB/s\u001b[0m eta \u001b[36m0:00:00\u001b[0m\n",
            "\u001b[?25hRequirement already satisfied: python-dateutil>=2.8.1 in /usr/local/lib/python3.10/dist-packages (from pandas<3,>=1.3.0->streamlit) (2.8.2)\n",
            "Requirement already satisfied: pytz>=2020.1 in /usr/local/lib/python3.10/dist-packages (from pandas<3,>=1.3.0->streamlit) (2023.4)\n",
            "Requirement already satisfied: charset-normalizer<4,>=2 in /usr/local/lib/python3.10/dist-packages (from requests<3,>=2.27->streamlit) (3.3.2)\n",
            "Requirement already satisfied: idna<4,>=2.5 in /usr/local/lib/python3.10/dist-packages (from requests<3,>=2.27->streamlit) (3.6)\n",
            "Requirement already satisfied: urllib3<3,>=1.21.1 in /usr/local/lib/python3.10/dist-packages (from requests<3,>=2.27->streamlit) (2.0.7)\n",
            "Requirement already satisfied: certifi>=2017.4.17 in /usr/local/lib/python3.10/dist-packages (from requests<3,>=2.27->streamlit) (2024.2.2)\n",
            "Requirement already satisfied: markdown-it-py>=2.2.0 in /usr/local/lib/python3.10/dist-packages (from rich<14,>=10.14.0->streamlit) (3.0.0)\n",
            "Requirement already satisfied: pygments<3.0.0,>=2.13.0 in /usr/local/lib/python3.10/dist-packages (from rich<14,>=10.14.0->streamlit) (2.16.1)\n",
            "Collecting smmap<6,>=3.0.1 (from gitdb<5,>=4.0.1->gitpython!=3.1.19,<4,>=3.0.7->streamlit)\n",
            "  Downloading smmap-5.0.1-py3-none-any.whl (24 kB)\n",
            "Requirement already satisfied: MarkupSafe>=2.0 in /usr/local/lib/python3.10/dist-packages (from jinja2->altair<6,>=4.0->streamlit) (2.1.5)\n",
            "Requirement already satisfied: attrs>=22.2.0 in /usr/local/lib/python3.10/dist-packages (from jsonschema>=3.0->altair<6,>=4.0->streamlit) (23.2.0)\n",
            "Requirement already satisfied: jsonschema-specifications>=2023.03.6 in /usr/local/lib/python3.10/dist-packages (from jsonschema>=3.0->altair<6,>=4.0->streamlit) (2023.12.1)\n",
            "Requirement already satisfied: referencing>=0.28.4 in /usr/local/lib/python3.10/dist-packages (from jsonschema>=3.0->altair<6,>=4.0->streamlit) (0.34.0)\n",
            "Requirement already satisfied: rpds-py>=0.7.1 in /usr/local/lib/python3.10/dist-packages (from jsonschema>=3.0->altair<6,>=4.0->streamlit) (0.18.0)\n",
            "Requirement already satisfied: mdurl~=0.1 in /usr/local/lib/python3.10/dist-packages (from markdown-it-py>=2.2.0->rich<14,>=10.14.0->streamlit) (0.1.2)\n",
            "Requirement already satisfied: six>=1.5 in /usr/local/lib/python3.10/dist-packages (from python-dateutil>=2.8.1->pandas<3,>=1.3.0->streamlit) (1.16.0)\n",
            "Installing collected packages: watchdog, smmap, packaging, pydeck, gitdb, gitpython, streamlit\n",
            "  Attempting uninstall: packaging\n",
            "    Found existing installation: packaging 24.0\n",
            "    Uninstalling packaging-24.0:\n",
            "      Successfully uninstalled packaging-24.0\n",
            "Successfully installed gitdb-4.0.11 gitpython-3.1.43 packaging-23.2 pydeck-0.8.1b0 smmap-5.0.1 streamlit-1.32.2 watchdog-4.0.0\n"
          ]
        }
      ]
    },
    {
      "cell_type": "code",
      "execution_count": 3,
      "metadata": {
        "id": "Owao-XdhtOSF"
      },
      "outputs": [],
      "source": [
        "import tensorflow as tf\n",
        "\n",
        "from keras.preprocessing.image import ImageDataGenerator\n",
        "from keras.preprocessing import image\n",
        "from keras.models import Sequential, Model\n",
        "from keras.layers import Conv2D, MaxPooling2D\n",
        "from keras.layers import Activation, Dropout, Flatten, Dense\n",
        "from keras import optimizers\n",
        "from keras.applications import VGG16\n",
        "from tensorflow.keras.callbacks import ReduceLROnPlateau, EarlyStopping\n",
        "import cv2\n",
        "\n",
        "import os\n",
        "import numpy as np\n",
        "import itertools\n",
        "import random\n",
        "\n",
        "from collections import Counter\n",
        "\n",
        "from glob import iglob\n",
        "\n",
        "from sklearn.metrics import confusion_matrix, classification_report\n",
        "import matplotlib.pyplot as plt\n",
        "\n",
        "from tensorflow.keras.applications.vgg16 import preprocess_input\n",
        "import streamlit as st\n",
        "from PIL import Image\n",
        "import numpy as np\n",
        "import tensorflow as tf\n",
        "import gdown\n",
        "\n"
      ]
    },
    {
      "cell_type": "markdown",
      "metadata": {
        "id": "NfhUUcgCuCJN"
      },
      "source": [
        "# Setting The Constant Hyperparameters"
      ]
    },
    {
      "cell_type": "code",
      "execution_count": 4,
      "metadata": {
        "id": "STn-hFF7tkDX"
      },
      "outputs": [],
      "source": [
        "\n",
        "BASE_DATASET_FOLDER = \"/content/diabetic-retinopathy/data\"\n",
        "TRAIN_FOLDER = \"training\"\n",
        "VALIDATION_FOLDER = \"validation\"\n",
        "TEST_FOLDER = \"test\"\n",
        "\n",
        "IMAGE_SIZE = (224,224)\n",
        "INPUT_SHAPE = (224,224,3)\n",
        "\n",
        "TRAIN_BATCH_SIZE = 80\n",
        "VAL_BATCH_SIZE = 15\n",
        "batch_size = 32\n",
        "EPOCHS = 50\n",
        "LEARNING_RATE = 0.0001\n",
        "\n",
        "\n"
      ]
    },
    {
      "cell_type": "markdown",
      "metadata": {
        "id": "qAfr-WnV2f6l"
      },
      "source": [
        "# Setting up the GPU"
      ]
    },
    {
      "cell_type": "code",
      "source": [
        "print(\"TensorFlow version:\", tf.__version__)\n",
        "print(\"GPU available:\", tf.config.list_physical_devices('GPU'))"
      ],
      "metadata": {
        "colab": {
          "base_uri": "https://localhost:8080/"
        },
        "id": "Z3oK_nGNRITc",
        "outputId": "fe7993aa-521b-46a4-cc36-0f19eedbb9cc"
      },
      "execution_count": 5,
      "outputs": [
        {
          "output_type": "stream",
          "name": "stdout",
          "text": [
            "TensorFlow version: 2.15.0\n",
            "GPU available: [PhysicalDevice(name='/physical_device:GPU:0', device_type='GPU')]\n"
          ]
        }
      ]
    },
    {
      "cell_type": "code",
      "execution_count": 6,
      "metadata": {
        "id": "kSB0KVOw2k1V"
      },
      "outputs": [],
      "source": [
        "tf.config.experimental.set_memory_growth(tf.config.experimental.list_physical_devices('GPU')[0], True)\n"
      ]
    },
    {
      "cell_type": "markdown",
      "metadata": {
        "id": "q201ydhHVkeR"
      },
      "source": [
        "# Image Preprocessing"
      ]
    },
    {
      "cell_type": "markdown",
      "metadata": {
        "id": "U09dz228VnmA"
      },
      "source": [
        "## Edge Detection"
      ]
    },
    {
      "cell_type": "code",
      "execution_count": null,
      "metadata": {
        "id": "PffItKattT7A"
      },
      "outputs": [],
      "source": [
        "def preprocess_image(image):\n",
        "\n",
        "    image_resized = cv2.resize(image, (224, 224))\n",
        "\n",
        "    gray = cv2.cvtColor(image, cv2.COLOR_BGR2GRAY)\n",
        "\n",
        "    gray_uint8 = np.uint8(gray)\n",
        "\n",
        "    blurred = cv2.GaussianBlur(gray_uint8, (3, 3), 0)\n",
        "\n",
        "    edges = cv2.Canny(blurred, 30, 150)\n",
        "\n",
        "    processed_image = np.stack((image_resized,)*3, axis=-1)\n",
        "    processed_image = np.concatenate((processed_image, np.expand_dims(edges, axis=-1)), axis=-1)\n",
        "\n",
        "    processed_image = preprocess_input(processed_image)\n",
        "\n",
        "    return processed_image"
      ]
    },
    {
      "cell_type": "markdown",
      "source": [
        "## Normalization and Histogram Equalization"
      ],
      "metadata": {
        "id": "8d1qgz4-Q4vK"
      }
    },
    {
      "cell_type": "code",
      "source": [
        "def normalize_image(image):\n",
        "    normalized_image = image.astype('float32') / 255.0\n",
        "    return normalized_image\n",
        "\n",
        "def apply_gaussian_blur(image):\n",
        "    blurred_image = cv2.GaussianBlur(image, (5, 5), 0)\n",
        "    return blurred_image\n",
        "\n",
        "\n",
        "def apply_histogram_equalization(img):\n",
        "    img_yuv = cv2.cvtColor(img, cv2.COLOR_BGR2YUV)\n",
        "    img_yuv[:,:,0] = cv2.equalizeHist(img_yuv[:,:,0])\n",
        "    img_output = cv2.cvtColor(img_yuv, cv2.COLOR_YUV2BGR)\n",
        "    return img_output"
      ],
      "metadata": {
        "id": "AymZ90juQ95B"
      },
      "execution_count": 34,
      "outputs": []
    },
    {
      "cell_type": "code",
      "source": [
        "def preprocess_image(image):\n",
        "    # Normalize image\n",
        "    normalized_image = normalize_image(image)\n",
        "\n",
        "    # Apply Gaussian blur\n",
        "    #blurred_image = apply_gaussian_blur(normalized_image)\n",
        "\n",
        "    # Apply Histogram Equalization\n",
        "    #equalized_image = apply_histogram_equalization(blurred_image)\n",
        "\n",
        "    return normalized_image"
      ],
      "metadata": {
        "id": "lR5sJZtiR6l5"
      },
      "execution_count": 55,
      "outputs": []
    },
    {
      "cell_type": "markdown",
      "metadata": {
        "id": "yhSBzBHn2afl"
      },
      "source": [
        "# Image Handling with Data Augmentation"
      ]
    },
    {
      "cell_type": "code",
      "execution_count": 56,
      "metadata": {
        "colab": {
          "base_uri": "https://localhost:8080/"
        },
        "id": "Wao7ZuhauRmb",
        "outputId": "5d845572-bd72-47dd-a87a-bb647759c859"
      },
      "outputs": [
        {
          "output_type": "stream",
          "name": "stdout",
          "text": [
            "Found 1659 images belonging to 5 classes.\n",
            "Found 550 images belonging to 5 classes.\n",
            "Found 560 images belonging to 5 classes.\n"
          ]
        }
      ],
      "source": [
        "train_datagen = ImageDataGenerator(\n",
        "    preprocessing_function=preprocess_image,\n",
        "    rescale=1./255,\n",
        "    width_shift_range=0.2,\n",
        "    height_shift_range=0.2,\n",
        "    horizontal_flip=True,\n",
        "    fill_mode='nearest')\n",
        "\n",
        "train_generator = train_datagen.flow_from_directory(\n",
        "    os.path.join(BASE_DATASET_FOLDER, TRAIN_FOLDER),\n",
        "    target_size=IMAGE_SIZE,\n",
        "    batch_size=TRAIN_BATCH_SIZE,\n",
        "    class_mode='categorical',\n",
        "    shuffle=True)\n",
        "\n",
        "\n",
        "val_datagen = ImageDataGenerator(\n",
        "     preprocessing_function=preprocess_image,\n",
        "     rescale=1./255)\n",
        "val_generator = val_datagen.flow_from_directory(\n",
        "    os.path.join(BASE_DATASET_FOLDER, VALIDATION_FOLDER),\n",
        "    target_size=IMAGE_SIZE,\n",
        "    class_mode='categorical',\n",
        "    shuffle=False)\n",
        "\n",
        "test_datagen = ImageDataGenerator(\n",
        "    preprocessing_function=preprocess_image,\n",
        "    rescale=1./255)\n",
        "test_generator = test_datagen.flow_from_directory(\n",
        "    os.path.join(BASE_DATASET_FOLDER, TEST_FOLDER),\n",
        "    target_size=IMAGE_SIZE,\n",
        "    batch_size=VAL_BATCH_SIZE,\n",
        "    class_mode='categorical',\n",
        "    shuffle=False)\n",
        "\n",
        "\n"
      ]
    },
    {
      "cell_type": "markdown",
      "source": [
        "# Helper Functions"
      ],
      "metadata": {
        "id": "Dhm-DV0Xq35R"
      }
    },
    {
      "cell_type": "code",
      "source": [
        "def plot_training_history(history):\n",
        "    plt.plot(history.history['acc'], label='Training Accuracy')\n",
        "    plt.plot(history.history['val_acc'], label='Validation Accuracy')\n",
        "    plt.xlabel('Epoch')\n",
        "    plt.ylabel('Accuracy')\n",
        "    plt.legend()\n",
        "    plt.show()\n",
        "\n",
        "    plt.plot(history.history['loss'], label='Training Loss')\n",
        "    plt.plot(history.history['val_loss'], label='Validation Loss')\n",
        "    plt.xlabel('Epoch')\n",
        "    plt.ylabel('Loss')\n",
        "    plt.legend()\n",
        "    plt.show()"
      ],
      "metadata": {
        "id": "yXvEcq7_q57Y"
      },
      "execution_count": 57,
      "outputs": []
    },
    {
      "cell_type": "markdown",
      "source": [
        "# Model Building & Training EfficicnetNET"
      ],
      "metadata": {
        "id": "1ppAZU8Fh1zJ"
      }
    },
    {
      "cell_type": "code",
      "source": [
        "import efficientnet.tfkeras as efn"
      ],
      "metadata": {
        "id": "APeHgOgyh7dC"
      },
      "execution_count": 58,
      "outputs": []
    },
    {
      "cell_type": "code",
      "source": [
        "def lr_rate(epoch,lr):\n",
        "    if epoch<10:\n",
        "        lr=0.0001\n",
        "        return lr\n",
        "    elif epoch<=15:\n",
        "        lr=0.0005\n",
        "        return lr\n",
        "    elif epoch<=30:\n",
        "        lr=0.0001\n",
        "        return lr\n",
        "    else:\n",
        "        lr=lr*(epoch/(1+epoch))\n",
        "        return lr\n",
        "lr_callback=tf.keras.callbacks.LearningRateScheduler(lr_rate)"
      ],
      "metadata": {
        "id": "AKcWBxSXh_kw"
      },
      "execution_count": 59,
      "outputs": []
    },
    {
      "cell_type": "code",
      "source": [
        "efn_model = tf.keras.Sequential([\n",
        "        efn.EfficientNetB0(\n",
        "            input_shape=(224,224, 3),\n",
        "            weights='imagenet',\n",
        "            include_top=False\n",
        "        ),tf.keras.layers.Flatten(),tf.keras.layers.Dense(5, activation='softmax')\n",
        "    ])\n",
        "\n",
        "efn_model.compile(optimizer=\"Adam\",loss='categorical_crossentropy',metrics=['acc'])\n"
      ],
      "metadata": {
        "id": "Y3tywno9iGL3"
      },
      "execution_count": 60,
      "outputs": []
    },
    {
      "cell_type": "code",
      "source": [
        "#early_stop = EarlyStopping(monitor='val_loss', patience=8, restore_best_weights=True, verbose=1)\n",
        "history=efn_model.fit_generator(train_generator,validation_data = val_generator,callbacks=[lr_callback],epochs=50,verbose=1)"
      ],
      "metadata": {
        "colab": {
          "base_uri": "https://localhost:8080/"
        },
        "id": "rztePHcPiI03",
        "outputId": "731157a8-b4e0-48c2-8f63-f798b9a4ecce"
      },
      "execution_count": 61,
      "outputs": [
        {
          "output_type": "stream",
          "name": "stderr",
          "text": [
            "<ipython-input-61-ddb5509b8391>:2: UserWarning: `Model.fit_generator` is deprecated and will be removed in a future version. Please use `Model.fit`, which supports generators.\n",
            "  history=efn_model.fit_generator(train_generator,validation_data = val_generator,callbacks=[lr_callback],epochs=50,verbose=1)\n"
          ]
        },
        {
          "output_type": "stream",
          "name": "stdout",
          "text": [
            "Epoch 1/50\n",
            "21/21 [==============================] - 64s 2s/step - loss: 1.9298 - acc: 0.2538 - val_loss: 1.9472 - val_acc: 0.2527 - lr: 1.0000e-04\n",
            "Epoch 2/50\n",
            "21/21 [==============================] - 31s 1s/step - loss: 1.6099 - acc: 0.3478 - val_loss: 2.1956 - val_acc: 0.0982 - lr: 1.0000e-04\n",
            "Epoch 3/50\n",
            "21/21 [==============================] - 32s 2s/step - loss: 1.4728 - acc: 0.3906 - val_loss: 2.2275 - val_acc: 0.0982 - lr: 1.0000e-04\n",
            "Epoch 4/50\n",
            "21/21 [==============================] - 31s 1s/step - loss: 1.3985 - acc: 0.4129 - val_loss: 2.0672 - val_acc: 0.0982 - lr: 1.0000e-04\n",
            "Epoch 5/50\n",
            "21/21 [==============================] - 31s 1s/step - loss: 1.2860 - acc: 0.4750 - val_loss: 2.0112 - val_acc: 0.0982 - lr: 1.0000e-04\n",
            "Epoch 6/50\n",
            "21/21 [==============================] - 31s 1s/step - loss: 1.2438 - acc: 0.4774 - val_loss: 1.9592 - val_acc: 0.0982 - lr: 1.0000e-04\n",
            "Epoch 7/50\n",
            "21/21 [==============================] - 31s 1s/step - loss: 1.1851 - acc: 0.5021 - val_loss: 1.9761 - val_acc: 0.0982 - lr: 1.0000e-04\n",
            "Epoch 8/50\n",
            "21/21 [==============================] - 32s 2s/step - loss: 1.1380 - acc: 0.5335 - val_loss: 1.8815 - val_acc: 0.0982 - lr: 1.0000e-04\n",
            "Epoch 9/50\n",
            "21/21 [==============================] - 31s 1s/step - loss: 1.0641 - acc: 0.5642 - val_loss: 1.8587 - val_acc: 0.0982 - lr: 1.0000e-04\n",
            "Epoch 10/50\n",
            "21/21 [==============================] - 31s 1s/step - loss: 1.0353 - acc: 0.5678 - val_loss: 2.1331 - val_acc: 0.0982 - lr: 1.0000e-04\n",
            "Epoch 11/50\n",
            "21/21 [==============================] - 31s 1s/step - loss: 1.1914 - acc: 0.5383 - val_loss: 1.6214 - val_acc: 0.1436 - lr: 5.0000e-04\n",
            "Epoch 12/50\n",
            "21/21 [==============================] - 31s 1s/step - loss: 1.2823 - acc: 0.5172 - val_loss: 1.5854 - val_acc: 0.2527 - lr: 5.0000e-04\n",
            "Epoch 13/50\n",
            "21/21 [==============================] - 31s 1s/step - loss: 1.0851 - acc: 0.5907 - val_loss: 1.6261 - val_acc: 0.2509 - lr: 5.0000e-04\n",
            "Epoch 14/50\n",
            "21/21 [==============================] - 31s 1s/step - loss: 1.0455 - acc: 0.6076 - val_loss: 1.6013 - val_acc: 0.2545 - lr: 5.0000e-04\n",
            "Epoch 15/50\n",
            "21/21 [==============================] - 32s 2s/step - loss: 0.8955 - acc: 0.6534 - val_loss: 1.5829 - val_acc: 0.2527 - lr: 5.0000e-04\n",
            "Epoch 16/50\n",
            "21/21 [==============================] - 30s 1s/step - loss: 0.7570 - acc: 0.7034 - val_loss: 1.5931 - val_acc: 0.2545 - lr: 5.0000e-04\n",
            "Epoch 17/50\n",
            "21/21 [==============================] - 32s 1s/step - loss: 0.6091 - acc: 0.7505 - val_loss: 1.6114 - val_acc: 0.2491 - lr: 1.0000e-04\n",
            "Epoch 18/50\n",
            "21/21 [==============================] - 31s 1s/step - loss: 0.5227 - acc: 0.7975 - val_loss: 1.5975 - val_acc: 0.2418 - lr: 1.0000e-04\n",
            "Epoch 19/50\n",
            "21/21 [==============================] - 32s 1s/step - loss: 0.4622 - acc: 0.8198 - val_loss: 1.5988 - val_acc: 0.2200 - lr: 1.0000e-04\n",
            "Epoch 20/50\n",
            "21/21 [==============================] - 33s 2s/step - loss: 0.4088 - acc: 0.8415 - val_loss: 1.5982 - val_acc: 0.2255 - lr: 1.0000e-04\n",
            "Epoch 21/50\n",
            "21/21 [==============================] - 30s 1s/step - loss: 0.3480 - acc: 0.8686 - val_loss: 1.6255 - val_acc: 0.2255 - lr: 1.0000e-04\n",
            "Epoch 22/50\n",
            "21/21 [==============================] - 31s 1s/step - loss: 0.3442 - acc: 0.8728 - val_loss: 1.6569 - val_acc: 0.2127 - lr: 1.0000e-04\n",
            "Epoch 23/50\n",
            "21/21 [==============================] - 31s 1s/step - loss: 0.3332 - acc: 0.8776 - val_loss: 1.6771 - val_acc: 0.1891 - lr: 1.0000e-04\n",
            "Epoch 24/50\n",
            "21/21 [==============================] - 31s 1s/step - loss: 0.3239 - acc: 0.8716 - val_loss: 1.7568 - val_acc: 0.1455 - lr: 1.0000e-04\n",
            "Epoch 25/50\n",
            "21/21 [==============================] - 31s 1s/step - loss: 0.3044 - acc: 0.8885 - val_loss: 1.8337 - val_acc: 0.1200 - lr: 1.0000e-04\n",
            "Epoch 26/50\n",
            "21/21 [==============================] - 30s 1s/step - loss: 0.2743 - acc: 0.9054 - val_loss: 1.8273 - val_acc: 0.2109 - lr: 1.0000e-04\n",
            "Epoch 27/50\n",
            "21/21 [==============================] - 31s 1s/step - loss: 0.2792 - acc: 0.8975 - val_loss: 1.9181 - val_acc: 0.2709 - lr: 1.0000e-04\n",
            "Epoch 28/50\n",
            "21/21 [==============================] - 31s 1s/step - loss: 0.2492 - acc: 0.9096 - val_loss: 1.9277 - val_acc: 0.2982 - lr: 1.0000e-04\n",
            "Epoch 29/50\n",
            "21/21 [==============================] - 31s 1s/step - loss: 0.2370 - acc: 0.9060 - val_loss: 2.1533 - val_acc: 0.3218 - lr: 1.0000e-04\n",
            "Epoch 30/50\n",
            "21/21 [==============================] - 33s 2s/step - loss: 0.1992 - acc: 0.9343 - val_loss: 2.1631 - val_acc: 0.3145 - lr: 1.0000e-04\n",
            "Epoch 31/50\n",
            "21/21 [==============================] - 35s 2s/step - loss: 0.1904 - acc: 0.9313 - val_loss: 2.2976 - val_acc: 0.3255 - lr: 1.0000e-04\n",
            "Epoch 32/50\n",
            "21/21 [==============================] - 34s 2s/step - loss: 0.1853 - acc: 0.9337 - val_loss: 2.3770 - val_acc: 0.3273 - lr: 9.6875e-05\n",
            "Epoch 33/50\n",
            "21/21 [==============================] - 34s 2s/step - loss: 0.1808 - acc: 0.9355 - val_loss: 2.5921 - val_acc: 0.3164 - lr: 9.3939e-05\n",
            "Epoch 34/50\n",
            "21/21 [==============================] - 34s 2s/step - loss: 0.1600 - acc: 0.9482 - val_loss: 2.6919 - val_acc: 0.3364 - lr: 9.1176e-05\n",
            "Epoch 35/50\n",
            "21/21 [==============================] - 34s 2s/step - loss: 0.1561 - acc: 0.9470 - val_loss: 3.0999 - val_acc: 0.3455 - lr: 8.8571e-05\n",
            "Epoch 36/50\n",
            "21/21 [==============================] - 34s 2s/step - loss: 0.1507 - acc: 0.9506 - val_loss: 2.8844 - val_acc: 0.3564 - lr: 8.6111e-05\n",
            "Epoch 37/50\n",
            "21/21 [==============================] - 35s 2s/step - loss: 0.1449 - acc: 0.9560 - val_loss: 2.8683 - val_acc: 0.3636 - lr: 8.3784e-05\n",
            "Epoch 38/50\n",
            "21/21 [==============================] - 35s 2s/step - loss: 0.1408 - acc: 0.9512 - val_loss: 2.7163 - val_acc: 0.3818 - lr: 8.1579e-05\n",
            "Epoch 39/50\n",
            "21/21 [==============================] - 34s 2s/step - loss: 0.1518 - acc: 0.9470 - val_loss: 2.5927 - val_acc: 0.3636 - lr: 7.9487e-05\n",
            "Epoch 40/50\n",
            "21/21 [==============================] - 33s 2s/step - loss: 0.1156 - acc: 0.9620 - val_loss: 2.5479 - val_acc: 0.3945 - lr: 7.7500e-05\n",
            "Epoch 41/50\n",
            "21/21 [==============================] - 33s 2s/step - loss: 0.1217 - acc: 0.9656 - val_loss: 2.6005 - val_acc: 0.4145 - lr: 7.5610e-05\n",
            "Epoch 42/50\n",
            "21/21 [==============================] - 31s 1s/step - loss: 0.1119 - acc: 0.9578 - val_loss: 2.6101 - val_acc: 0.4255 - lr: 7.3810e-05\n",
            "Epoch 43/50\n",
            "21/21 [==============================] - 31s 1s/step - loss: 0.0992 - acc: 0.9705 - val_loss: 2.6860 - val_acc: 0.4382 - lr: 7.2093e-05\n",
            "Epoch 44/50\n",
            "21/21 [==============================] - 31s 1s/step - loss: 0.1046 - acc: 0.9693 - val_loss: 2.7040 - val_acc: 0.4255 - lr: 7.0455e-05\n",
            "Epoch 45/50\n",
            "21/21 [==============================] - 31s 1s/step - loss: 0.1113 - acc: 0.9662 - val_loss: 2.7109 - val_acc: 0.4236 - lr: 6.8889e-05\n",
            "Epoch 46/50\n",
            "21/21 [==============================] - 31s 1s/step - loss: 0.1030 - acc: 0.9662 - val_loss: 2.6765 - val_acc: 0.4200 - lr: 6.7391e-05\n",
            "Epoch 47/50\n",
            "21/21 [==============================] - 31s 1s/step - loss: 0.0878 - acc: 0.9753 - val_loss: 2.8035 - val_acc: 0.4073 - lr: 6.5957e-05\n",
            "Epoch 48/50\n",
            "21/21 [==============================] - 31s 1s/step - loss: 0.0869 - acc: 0.9687 - val_loss: 2.8224 - val_acc: 0.4055 - lr: 6.4583e-05\n",
            "Epoch 49/50\n",
            "21/21 [==============================] - 34s 2s/step - loss: 0.0889 - acc: 0.9717 - val_loss: 2.7600 - val_acc: 0.4236 - lr: 6.3265e-05\n",
            "Epoch 50/50\n",
            "21/21 [==============================] - 31s 1s/step - loss: 0.0777 - acc: 0.9747 - val_loss: 2.7167 - val_acc: 0.4236 - lr: 6.2000e-05\n"
          ]
        }
      ]
    },
    {
      "cell_type": "code",
      "source": [
        "test_loss, test_accuracy = efn_model.evaluate(test_generator, steps=test_generator.n // batch_size)\n",
        "print(\"Test Accuracy:\", test_accuracy)"
      ],
      "metadata": {
        "colab": {
          "base_uri": "https://localhost:8080/"
        },
        "id": "UCrrlqc8qmSB",
        "outputId": "f9dd9fb8-3e0a-4e99-97ef-dcbddcde44ea"
      },
      "execution_count": 62,
      "outputs": [
        {
          "output_type": "stream",
          "name": "stdout",
          "text": [
            "17/17 [==============================] - 1s 65ms/step - loss: 2.8396 - acc: 0.3961\n",
            "Test Accuracy: 0.3960784375667572\n"
          ]
        }
      ]
    },
    {
      "cell_type": "code",
      "source": [
        "plot_training_history(history)"
      ],
      "metadata": {
        "colab": {
          "base_uri": "https://localhost:8080/",
          "height": 881
        },
        "id": "_LOUjz5fqv-B",
        "outputId": "6b4647f1-aa98-46d3-9304-d839e93c0855"
      },
      "execution_count": 63,
      "outputs": [
        {
          "output_type": "display_data",
          "data": {
            "text/plain": [
              "<Figure size 640x480 with 1 Axes>"
            ],
            "image/png": "[encoded data removed]"
          },
          "metadata": {}
        },
        {
          "output_type": "display_data",
          "data": {
            "text/plain": [
              "<Figure size 640x480 with 1 Axes>"
            ],
            "image/png": "[encoded data removed]"
          },
          "metadata": {}
        }
      ]
    },
    {
      "cell_type": "code",
      "source": [
        "efn_model.save('/content/drive/MyDrive/Diabetic-Retinopathy-Detection Models/EfficientNet.h5')"
      ],
      "metadata": {
        "id": "aAqzRyfLjBIh"
      },
      "execution_count": 64,
      "outputs": []
    },
    {
      "cell_type": "markdown",
      "metadata": {
        "id": "qVjYXdIAxfqF"
      },
      "source": [
        "# Model Building & Training VGG16"
      ]
    },
    {
      "cell_type": "markdown",
      "metadata": {
        "id": "C4nH75xWxjlV"
      },
      "source": [
        "## Importing VGG Model (Transfer Learning)"
      ]
    },
    {
      "cell_type": "code",
      "execution_count": null,
      "metadata": {
        "id": "DlXWa7mxvwlV"
      },
      "outputs": [],
      "source": [
        "vgg_model = VGG16(weights='imagenet', include_top=False, input_shape=INPUT_SHAPE)\n",
        "for layer in vgg_model.layers[:-4]:\n",
        "    layer.trainable = False"
      ]
    },
    {
      "cell_type": "markdown",
      "metadata": {
        "id": "eKUhSVa0xtTl"
      },
      "source": [
        "## Building The CNN Architicture"
      ]
    },
    {
      "cell_type": "code",
      "execution_count": null,
      "metadata": {
        "id": "Ib76DF4sxrfI"
      },
      "outputs": [],
      "source": [
        "model_vgg = Sequential()\n",
        "model_vgg.add(vgg_model)\n",
        "model_vgg.add(Flatten())\n",
        "model_vgg.add(Dense(256, activation='relu'))\n",
        "model_vgg.add(Dropout(0.2))\n",
        "model_vgg.add(Dense(256, activation='relu'))\n",
        "model_vgg.add(Dropout(0.2))\n",
        "model_vgg.add(Dense(128, activation='relu'))\n",
        "model_vgg.add(Dropout(0.3))\n",
        "model_vgg.add(Dense(128, activation='relu'))\n",
        "model_vgg.add(Dropout(0.3))\n",
        "model_vgg.add(Dense(64, activation='relu'))\n",
        "model_vgg.add(Dropout(0.3))\n",
        "model_vgg.add(Dense(32, activation='relu'))\n",
        "model_vgg.add(Dropout(0.3))\n",
        "model_vgg.add(Dense(16, activation='relu'))\n",
        "model_vgg.add(Dropout(0.3))\n",
        "model_vgg.add(Dense(5, activation='softmax'))"
      ]
    },
    {
      "cell_type": "code",
      "execution_count": null,
      "metadata": {
        "colab": {
          "base_uri": "https://localhost:8080/"
        },
        "id": "-JwOIQKFx1UT",
        "outputId": "7da8d7a8-9545-4168-dd68-dce0d7cf72c3"
      },
      "outputs": [
        {
          "output_type": "stream",
          "name": "stdout",
          "text": [
            "Model: \"sequential_1\"\n",
            "_________________________________________________________________\n",
            " Layer (type)                Output Shape              Param #   \n",
            "=================================================================\n",
            " vgg16 (Functional)          (None, 7, 7, 512)         14714688  \n",
            "                                                                 \n",
            " flatten_1 (Flatten)         (None, 25088)             0         \n",
            "                                                                 \n",
            " dense_8 (Dense)             (None, 256)               6422784   \n",
            "                                                                 \n",
            " dropout_7 (Dropout)         (None, 256)               0         \n",
            "                                                                 \n",
            " dense_9 (Dense)             (None, 256)               65792     \n",
            "                                                                 \n",
            " dropout_8 (Dropout)         (None, 256)               0         \n",
            "                                                                 \n",
            " dense_10 (Dense)            (None, 128)               32896     \n",
            "                                                                 \n",
            " dropout_9 (Dropout)         (None, 128)               0         \n",
            "                                                                 \n",
            " dense_11 (Dense)            (None, 128)               16512     \n",
            "                                                                 \n",
            " dropout_10 (Dropout)        (None, 128)               0         \n",
            "                                                                 \n",
            " dense_12 (Dense)            (None, 64)                8256      \n",
            "                                                                 \n",
            " dropout_11 (Dropout)        (None, 64)                0         \n",
            "                                                                 \n",
            " dense_13 (Dense)            (None, 32)                2080      \n",
            "                                                                 \n",
            " dropout_12 (Dropout)        (None, 32)                0         \n",
            "                                                                 \n",
            " dense_14 (Dense)            (None, 16)                528       \n",
            "                                                                 \n",
            " dropout_13 (Dropout)        (None, 16)                0         \n",
            "                                                                 \n",
            " dense_15 (Dense)            (None, 5)                 85        \n",
            "                                                                 \n",
            "=================================================================\n",
            "Total params: 21263621 (81.11 MB)\n",
            "Trainable params: 13628357 (51.99 MB)\n",
            "Non-trainable params: 7635264 (29.13 MB)\n",
            "_________________________________________________________________\n"
          ]
        }
      ],
      "source": [
        "model_vgg.summary()"
      ]
    },
    {
      "cell_type": "markdown",
      "metadata": {
        "id": "EyS7MEL0yaxW"
      },
      "source": [
        "## Model Compiling"
      ]
    },
    {
      "cell_type": "code",
      "execution_count": null,
      "metadata": {
        "colab": {
          "base_uri": "https://localhost:8080/"
        },
        "id": "lRAlatlrx-Rq",
        "outputId": "7e5b9b3b-1de0-43e0-b89c-41e2159cee5e"
      },
      "outputs": [
        {
          "output_type": "stream",
          "name": "stderr",
          "text": [
            "WARNING:absl:`lr` is deprecated in Keras optimizer, please use `learning_rate` or use the legacy optimizer, e.g.,tf.keras.optimizers.legacy.Adam.\n"
          ]
        }
      ],
      "source": [
        "model_vgg.compile(loss='categorical_crossentropy',\n",
        "              optimizer=optimizers.Adam(lr=LEARNING_RATE),\n",
        "              metrics=['acc'])"
      ]
    },
    {
      "cell_type": "markdown",
      "metadata": {
        "id": "tDl6cgY6zk5F"
      },
      "source": [
        "## Model Fitting"
      ]
    },
    {
      "cell_type": "code",
      "execution_count": null,
      "metadata": {
        "colab": {
          "base_uri": "https://localhost:8080/"
        },
        "id": "SphhUM08znc_",
        "outputId": "3329ed67-4a80-4535-ad74-46606506d0e1"
      },
      "outputs": [
        {
          "output_type": "stream",
          "name": "stderr",
          "text": [
            "<ipython-input-22-e2f53e4c3bdd>:5: UserWarning: `Model.fit_generator` is deprecated and will be removed in a future version. Please use `Model.fit`, which supports generators.\n",
            "  history = model_vgg.fit_generator(\n"
          ]
        },
        {
          "output_type": "stream",
          "name": "stdout",
          "text": [
            "Epoch 1/50\n",
            "20/20 [==============================] - 62s 2s/step - loss: 1.6092 - acc: 0.2305 - val_loss: 1.5778 - val_acc: 0.2555 - lr: 0.0010\n",
            "Epoch 2/50\n",
            "20/20 [==============================] - 28s 1s/step - loss: 1.5929 - acc: 0.2381 - val_loss: 1.5855 - val_acc: 0.2555 - lr: 0.0010\n",
            "Epoch 3/50\n",
            "20/20 [==============================] - 28s 1s/step - loss: 1.5832 - acc: 0.2356 - val_loss: 1.5622 - val_acc: 0.2555 - lr: 0.0010\n",
            "Epoch 4/50\n",
            "20/20 [==============================] - 28s 1s/step - loss: 1.5834 - acc: 0.2584 - val_loss: 1.5696 - val_acc: 0.2555 - lr: 0.0010\n",
            "Epoch 5/50\n",
            "20/20 [==============================] - 28s 1s/step - loss: 1.5730 - acc: 0.2381 - val_loss: 1.5606 - val_acc: 0.2555 - lr: 0.0010\n",
            "Epoch 6/50\n",
            "20/20 [==============================] - 28s 1s/step - loss: 1.5769 - acc: 0.2343 - val_loss: 1.5701 - val_acc: 0.2555 - lr: 0.0010\n",
            "Epoch 7/50\n",
            "20/20 [==============================] - 31s 2s/step - loss: 1.5701 - acc: 0.2451 - val_loss: 1.5576 - val_acc: 0.2555 - lr: 0.0010\n",
            "Epoch 8/50\n",
            "20/20 [==============================] - 30s 2s/step - loss: 1.5607 - acc: 0.2603 - val_loss: 1.5550 - val_acc: 0.2555 - lr: 0.0010\n",
            "Epoch 9/50\n",
            "20/20 [==============================] - 29s 1s/step - loss: 1.5642 - acc: 0.2362 - val_loss: 1.5516 - val_acc: 0.2555 - lr: 0.0010\n",
            "Epoch 10/50\n",
            "20/20 [==============================] - 28s 1s/step - loss: 1.5610 - acc: 0.2451 - val_loss: 1.5491 - val_acc: 0.2555 - lr: 0.0010\n",
            "Epoch 11/50\n",
            "20/20 [==============================] - 28s 1s/step - loss: 1.5561 - acc: 0.2559 - val_loss: 1.5467 - val_acc: 0.2555 - lr: 0.0010\n",
            "Epoch 12/50\n",
            "20/20 [==============================] - 28s 1s/step - loss: 1.5563 - acc: 0.2546 - val_loss: 1.5445 - val_acc: 0.2555 - lr: 0.0010\n",
            "Epoch 13/50\n",
            "20/20 [==============================] - 30s 2s/step - loss: 1.5520 - acc: 0.2654 - val_loss: 1.5434 - val_acc: 0.2555 - lr: 0.0010\n",
            "Epoch 14/50\n",
            "20/20 [==============================] - 28s 1s/step - loss: 1.5513 - acc: 0.2647 - val_loss: 1.5429 - val_acc: 0.2555 - lr: 0.0010\n",
            "Epoch 15/50\n",
            "20/20 [==============================] - 28s 1s/step - loss: 1.5556 - acc: 0.2660 - val_loss: 1.5425 - val_acc: 0.2555 - lr: 0.0010\n",
            "Epoch 16/50\n",
            "20/20 [==============================] - 28s 1s/step - loss: 1.5555 - acc: 0.2508 - val_loss: 1.5426 - val_acc: 0.2555 - lr: 0.0010\n",
            "Epoch 17/50\n",
            "20/20 [==============================] - 28s 1s/step - loss: 1.5560 - acc: 0.2584 - val_loss: 1.5424 - val_acc: 0.2555 - lr: 0.0010\n",
            "Epoch 18/50\n",
            "20/20 [==============================] - 28s 1s/step - loss: 1.5496 - acc: 0.2736 - val_loss: 1.5422 - val_acc: 0.2555 - lr: 0.0010\n",
            "Epoch 19/50\n",
            "20/20 [==============================] - 29s 1s/step - loss: 1.5558 - acc: 0.2293 - val_loss: 1.5425 - val_acc: 0.2555 - lr: 0.0010\n",
            "Epoch 20/50\n",
            "20/20 [==============================] - 28s 1s/step - loss: 1.5530 - acc: 0.2550 - val_loss: 1.5427 - val_acc: 0.2555 - lr: 0.0010\n",
            "Epoch 21/50\n",
            "20/20 [==============================] - 28s 1s/step - loss: 1.5507 - acc: 0.2514 - val_loss: 1.5422 - val_acc: 0.2555 - lr: 0.0010\n",
            "Epoch 22/50\n",
            "20/20 [==============================] - 28s 1s/step - loss: 1.5551 - acc: 0.2540 - val_loss: 1.5423 - val_acc: 0.2555 - lr: 0.0010\n",
            "Epoch 23/50\n",
            "20/20 [==============================] - 28s 1s/step - loss: 1.5532 - acc: 0.2647 - val_loss: 1.5425 - val_acc: 0.2555 - lr: 0.0010\n",
            "Epoch 24/50\n",
            "20/20 [==============================] - 30s 1s/step - loss: 1.5519 - acc: 0.2527 - val_loss: 1.5424 - val_acc: 0.2555 - lr: 0.0010\n",
            "Epoch 25/50\n",
            "20/20 [==============================] - 28s 1s/step - loss: 1.5593 - acc: 0.2331 - val_loss: 1.5430 - val_acc: 0.2555 - lr: 0.0010\n",
            "Epoch 26/50\n",
            "20/20 [==============================] - ETA: 0s - loss: 1.5533 - acc: 0.2647\n",
            "Epoch 26: ReduceLROnPlateau reducing learning rate to 0.00010000000474974513.\n",
            "20/20 [==============================] - 28s 1s/step - loss: 1.5533 - acc: 0.2647 - val_loss: 1.5428 - val_acc: 0.2555 - lr: 0.0010\n",
            "Epoch 27/50\n",
            "20/20 [==============================] - 28s 1s/step - loss: 1.5489 - acc: 0.2641 - val_loss: 1.5427 - val_acc: 0.2555 - lr: 1.0000e-04\n",
            "Epoch 28/50\n",
            "20/20 [==============================] - 28s 1s/step - loss: 1.5526 - acc: 0.2533 - val_loss: 1.5427 - val_acc: 0.2555 - lr: 1.0000e-04\n",
            "Epoch 29/50\n",
            "20/20 [==============================] - ETA: 0s - loss: 1.5531 - acc: 0.2552Restoring model weights from the end of the best epoch: 21.\n",
            "20/20 [==============================] - 28s 1s/step - loss: 1.5531 - acc: 0.2552 - val_loss: 1.5427 - val_acc: 0.2555 - lr: 1.0000e-04\n",
            "Epoch 29: early stopping\n"
          ]
        }
      ],
      "source": [
        "reduce_lr = ReduceLROnPlateau(monitor='val_loss', factor=0.1, patience=8, min_lr=1e-6, verbose=1)\n",
        "\n",
        "early_stop = EarlyStopping(monitor='val_loss', patience=8, restore_best_weights=True, verbose=1)\n",
        "\n",
        "history = model_vgg.fit_generator(\n",
        "    train_generator,\n",
        "    steps_per_epoch=train_generator.samples // train_generator.batch_size,\n",
        "    epochs=EPOCHS,\n",
        "    validation_data=val_generator,\n",
        "    validation_steps=val_generator.samples // val_generator.batch_size,\n",
        "    callbacks=[reduce_lr, early_stop]\n",
        "    )"
      ]
    },
    {
      "cell_type": "markdown",
      "metadata": {
        "id": "ksdBKZ58zotl"
      },
      "source": [
        "## Save The Model & The Weights"
      ]
    },
    {
      "cell_type": "code",
      "source": [
        "model_vgg.save('/content/drive/MyDrive/Diabetic-Retinopathy-Detection Models/VGG16.h5')"
      ],
      "metadata": {
        "id": "hvVP1IwKbZ2I"
      },
      "execution_count": null,
      "outputs": []
    },
    {
      "cell_type": "code",
      "execution_count": null,
      "metadata": {
        "id": "pf6qDqvTzupr",
        "colab": {
          "base_uri": "https://localhost:8080/"
        },
        "outputId": "d3b5b05e-4d3d-4380-cbba-69ca4de3b0b2"
      },
      "outputs": [
        {
          "output_type": "stream",
          "name": "stderr",
          "text": [
            "/usr/local/lib/python3.10/dist-packages/keras/src/engine/training.py:3103: UserWarning: You are saving your model as an HDF5 file via `model.save()`. This file format is considered legacy. We recommend using instead the native Keras format, e.g. `model.save('my_model.keras')`.\n",
            "  saving_api.save_model(\n"
          ]
        }
      ],
      "source": [
        "MODEL_PATH = os.path.join(\"Diabetic_Retinopathy_Detector(VGG16).h5\")\n",
        "MODEL_WEIGHTS_PATH = os.path.join(\"Diabetic_Retinopathy_Model_Weights(VGG16).h5\")\n",
        "model_vgg.save(MODEL_PATH)\n"
      ]
    },
    {
      "cell_type": "markdown",
      "source": [
        "##Uploading the Model to Github Repo"
      ],
      "metadata": {
        "id": "mEKZDmlNPhGr"
      }
    },
    {
      "cell_type": "code",
      "source": [
        "from google.colab import drive\n",
        "drive.mount('/content/drive')"
      ],
      "metadata": {
        "colab": {
          "base_uri": "https://localhost:8080/"
        },
        "id": "do3ui4iJL7as",
        "outputId": "58fb589f-5576-4acb-a9a9-91ea87988a76"
      },
      "execution_count": null,
      "outputs": [
        {
          "output_type": "stream",
          "name": "stdout",
          "text": [
            "Mounted at /content/drive\n"
          ]
        }
      ]
    },
    {
      "cell_type": "code",
      "source": [
        "import shutil\n",
        "shutil.copy('/content/Diabetic_Retinopathy_Detector(VGG16).h5', '/content/drive/My Drive/Diabetic_Retinopathy_Detector(VGG16).h5')"
      ],
      "metadata": {
        "colab": {
          "base_uri": "https://localhost:8080/",
          "height": 36
        },
        "id": "tnnV0-6RPos6",
        "outputId": "95a6bf19-3762-4af1-f695-d828e4805a97"
      },
      "execution_count": null,
      "outputs": [
        {
          "output_type": "execute_result",
          "data": {
            "text/plain": [
              "'/content/drive/My Drive/Diabetic_Retinopathy_Detector(VGG16).h5'"
            ],
            "application/vnd.google.colaboratory.intrinsic+json": {
              "type": "string"
            }
          },
          "metadata": {},
          "execution_count": 25
        }
      ]
    },
    {
      "cell_type": "code",
      "source": [
        "!git clone https://github.com/AnSaradar/Diabetic-Retinopathy-Detection"
      ],
      "metadata": {
        "colab": {
          "base_uri": "https://localhost:8080/"
        },
        "id": "y5HVe55NQGNT",
        "outputId": "76a2bc56-7084-4164-b983-a4e3035d1e55"
      },
      "execution_count": null,
      "outputs": [
        {
          "output_type": "stream",
          "name": "stdout",
          "text": [
            "Cloning into 'Diabetic-Retinopathy-Detection'...\n",
            "remote: Enumerating objects: 9, done.\u001b[K\n",
            "remote: Counting objects: 100% (9/9), done.\u001b[K\n",
            "remote: Compressing objects: 100% (8/8), done.\u001b[K\n",
            "remote: Total 9 (delta 0), reused 0 (delta 0), pack-reused 0\u001b[K\n",
            "Receiving objects: 100% (9/9), 243.57 KiB | 20.30 MiB/s, done.\n"
          ]
        }
      ]
    },
    {
      "cell_type": "code",
      "source": [
        "!mv '/content/drive/My Drive/Diabetic_Retinopathy_Detector(VGG16).h5' '/content/Diabetic-Retinopathy-Detection'"
      ],
      "metadata": {
        "id": "TkE88i1ISGL7"
      },
      "execution_count": null,
      "outputs": []
    },
    {
      "cell_type": "code",
      "source": [
        "!cd /content/Diabetic-Retinopathy-Detection\n",
        "!git init"
      ],
      "metadata": {
        "colab": {
          "base_uri": "https://localhost:8080/"
        },
        "id": "tyiSEaYKY5h5",
        "outputId": "41bdd18c-647e-4369-ffc7-c983f60f8ff6"
      },
      "execution_count": null,
      "outputs": [
        {
          "output_type": "stream",
          "name": "stdout",
          "text": [
            "\u001b[33mhint: Using 'master' as the name for the initial branch. This default branch name\u001b[m\n",
            "\u001b[33mhint: is subject to change. To configure the initial branch name to use in all\u001b[m\n",
            "\u001b[33mhint: of your new repositories, which will suppress this warning, call:\u001b[m\n",
            "\u001b[33mhint: \u001b[m\n",
            "\u001b[33mhint: \tgit config --global init.defaultBranch <name>\u001b[m\n",
            "\u001b[33mhint: \u001b[m\n",
            "\u001b[33mhint: Names commonly chosen instead of 'master' are 'main', 'trunk' and\u001b[m\n",
            "\u001b[33mhint: 'development'. The just-created branch can be renamed via this command:\u001b[m\n",
            "\u001b[33mhint: \u001b[m\n",
            "\u001b[33mhint: \tgit branch -m <name>\u001b[m\n",
            "Initialized empty Git repository in /content/.git/\n"
          ]
        }
      ]
    },
    {
      "cell_type": "code",
      "source": [
        "\n",
        "!git add .\n",
        "!git commit -m \"Add trained model files\"\n",
        "!git push origin master"
      ],
      "metadata": {
        "colab": {
          "base_uri": "https://localhost:8080/"
        },
        "id": "cVRzEqoeXu6_",
        "outputId": "a35d9fd6-4428-4aba-bbdf-b188f83f7c22"
      },
      "execution_count": null,
      "outputs": [
        {
          "output_type": "stream",
          "name": "stdout",
          "text": [
            "warning: adding embedded git repository: Diabetic-Retinopathy-Detection\n",
            "\u001b[33mhint: You've added another git repository inside your current repository.\u001b[m\n",
            "\u001b[33mhint: Clones of the outer repository will not contain the contents of\u001b[m\n",
            "\u001b[33mhint: the embedded repository and will not know how to obtain it.\u001b[m\n",
            "\u001b[33mhint: If you meant to add a submodule, use:\u001b[m\n",
            "\u001b[33mhint: \u001b[m\n",
            "\u001b[33mhint: \tgit submodule add <url> Diabetic-Retinopathy-Detection\u001b[m\n",
            "\u001b[33mhint: \u001b[m\n",
            "\u001b[33mhint: If you added this path by mistake, you can remove it from the\u001b[m\n",
            "\u001b[33mhint: index with:\u001b[m\n",
            "\u001b[33mhint: \u001b[m\n",
            "\u001b[33mhint: \tgit rm --cached Diabetic-Retinopathy-Detection\u001b[m\n",
            "\u001b[33mhint: \u001b[m\n",
            "\u001b[33mhint: See \"git help submodule\" for more information.\u001b[m\n",
            "warning: adding embedded git repository: diabetic-retinopathy\n",
            "error: open(\"drive/MyDrive/2nd Lecture - STL.gdoc\"): Operation not supported\n",
            "error: unable to index file 'drive/MyDrive/2nd Lecture - STL.gdoc'\n",
            "fatal: adding files failed\n",
            "Author identity unknown\n",
            "\n",
            "*** Please tell me who you are.\n",
            "\n",
            "Run\n",
            "\n",
            "  git config --global user.email \"you@example.com\"\n",
            "  git config --global user.name \"Your Name\"\n",
            "\n",
            "to set your account's default identity.\n",
            "Omit --global to set the identity only in this repository.\n",
            "\n",
            "fatal: unable to auto-detect email address (got 'root@861dc7ea7b7d.(none)')\n",
            "error: src refspec master does not match any\n",
            "\u001b[31merror: failed to push some refs to 'origin'\n",
            "\u001b[m"
          ]
        }
      ]
    },
    {
      "cell_type": "markdown",
      "metadata": {
        "id": "fM-dtJSP9Cao"
      },
      "source": [
        "## Testing The Model"
      ]
    },
    {
      "cell_type": "code",
      "execution_count": null,
      "metadata": {
        "id": "nMv8Tgjn9E4f",
        "colab": {
          "base_uri": "https://localhost:8080/"
        },
        "outputId": "800fdbf8-0ba7-4da1-8bf8-0ea0c5e30b5c"
      },
      "outputs": [
        {
          "output_type": "stream",
          "name": "stdout",
          "text": [
            "17/17 [==============================] - 6s 85ms/step - loss: 1.3927 - acc: 0.0000e+00\n",
            "Test Accuracy: 0.0\n"
          ]
        }
      ],
      "source": [
        "test_loss, test_accuracy = model_vgg.evaluate(test_generator, steps=test_generator.n // batch_size)\n",
        "print(\"Test Accuracy:\", test_accuracy)"
      ]
    },
    {
      "cell_type": "markdown",
      "metadata": {
        "id": "1RFZT53qEHK4"
      },
      "source": [
        "## Training & Validation Curve"
      ]
    },
    {
      "cell_type": "code",
      "execution_count": null,
      "metadata": {
        "colab": {
          "base_uri": "https://localhost:8080/",
          "height": 881
        },
        "id": "WeX69LQqFcTA",
        "outputId": "7afe9fef-5bd3-4b7b-b5a4-831c0d60ad06"
      },
      "outputs": [
        {
          "output_type": "display_data",
          "data": {
            "text/plain": [
              "<Figure size 640x480 with 1 Axes>"
            ],
            "image/png": "[encoded data removed]"
          },
          "metadata": {}
        },
        {
          "output_type": "display_data",
          "data": {
            "text/plain": [
              "<Figure size 640x480 with 1 Axes>"
            ],
            "image/png": "[encoded data removed]"
          },
          "metadata": {}
        }
      ],
      "source": [
        "plot_training_history(history)"
      ]
    },
    {
      "cell_type": "markdown",
      "metadata": {
        "id": "EWgoCEYexDb3"
      },
      "source": [
        "# Model Building & Training RESNET50"
      ]
    },
    {
      "cell_type": "markdown",
      "source": [
        "## Import The RESNET 50 Model"
      ],
      "metadata": {
        "id": "eJGZogtEXK8u"
      }
    },
    {
      "cell_type": "code",
      "execution_count": null,
      "metadata": {
        "id": "3MmiKx2NxZyY"
      },
      "outputs": [],
      "source": [
        "from tensorflow.keras.applications import ResNet50\n",
        "from tensorflow.keras.models import Model\n",
        "from tensorflow.keras.layers import Dense, GlobalAveragePooling2D"
      ]
    },
    {
      "cell_type": "code",
      "execution_count": null,
      "metadata": {
        "id": "K1QvzvmaxbJo",
        "colab": {
          "base_uri": "https://localhost:8080/"
        },
        "outputId": "32417eee-321a-46cc-9e60-2c77fb842087"
      },
      "outputs": [
        {
          "output_type": "stream",
          "name": "stdout",
          "text": [
            "Downloading data from https://storage.googleapis.com/tensorflow/keras-applications/resnet/resnet50_weights_tf_dim_ordering_tf_kernels_notop.h5\n",
            "94765736/94765736 [==============================] - 0s 0us/step\n"
          ]
        }
      ],
      "source": [
        "base_model = ResNet50(weights='imagenet', include_top=False)\n",
        "\n",
        "# Freeze the base model layers\n",
        "for layer in base_model.layers:\n",
        "    layer.trainable = False"
      ]
    },
    {
      "cell_type": "markdown",
      "source": [
        "## Building the Model Architcture"
      ],
      "metadata": {
        "id": "DDcp4SK7XUNn"
      }
    },
    {
      "cell_type": "code",
      "execution_count": null,
      "metadata": {
        "id": "tdNDbNJWxhlr"
      },
      "outputs": [],
      "source": [
        "x = base_model.output\n",
        "x = GlobalAveragePooling2D()(x)\n",
        "x = Dense(512, activation='relu')(x)\n",
        "predictions = Dense(5, activation='softmax')(x)\n",
        "\n",
        "model_resnet = Model(inputs=base_model.input, outputs=predictions)"
      ]
    },
    {
      "cell_type": "code",
      "execution_count": null,
      "metadata": {
        "id": "ay41nr33xo0q"
      },
      "outputs": [],
      "source": [
        "model_resnet.compile(optimizer='adam',\n",
        "              loss='categorical_crossentropy',\n",
        "              metrics=['accuracy'])"
      ]
    },
    {
      "cell_type": "markdown",
      "source": [
        "## Model Training"
      ],
      "metadata": {
        "id": "_UINwwPnXcaX"
      }
    },
    {
      "cell_type": "code",
      "execution_count": null,
      "metadata": {
        "id": "tO_A59RwxrEK",
        "colab": {
          "base_uri": "https://localhost:8080/"
        },
        "outputId": "3a987545-07b9-4fb6-bcdf-84043a85c62c"
      },
      "outputs": [
        {
          "output_type": "stream",
          "name": "stdout",
          "text": [
            "Epoch 1/50\n",
            "20/20 [==============================] - 33s 2s/step - loss: 1.5988 - accuracy: 0.2457 - val_loss: 1.5549 - val_accuracy: 0.2555\n",
            "Epoch 2/50\n",
            "20/20 [==============================] - 28s 1s/step - loss: 1.5868 - accuracy: 0.2481 - val_loss: 1.5773 - val_accuracy: 0.2555\n",
            "Epoch 3/50\n",
            "20/20 [==============================] - 29s 1s/step - loss: 1.5808 - accuracy: 0.2717 - val_loss: 1.5782 - val_accuracy: 0.2555\n",
            "Epoch 4/50\n",
            "20/20 [==============================] - 31s 2s/step - loss: 1.6223 - accuracy: 0.2445 - val_loss: 1.6282 - val_accuracy: 0.2555\n",
            "Epoch 5/50\n",
            "20/20 [==============================] - 28s 1s/step - loss: 1.5874 - accuracy: 0.2679 - val_loss: 1.5537 - val_accuracy: 0.2463\n",
            "Epoch 6/50\n",
            "20/20 [==============================] - 28s 1s/step - loss: 1.5712 - accuracy: 0.2525 - val_loss: 1.5654 - val_accuracy: 0.2482\n",
            "Epoch 7/50\n",
            "20/20 [==============================] - 29s 1s/step - loss: 1.5651 - accuracy: 0.2590 - val_loss: 1.5619 - val_accuracy: 0.2537\n",
            "Epoch 8/50\n",
            "20/20 [==============================] - 28s 1s/step - loss: 1.5820 - accuracy: 0.2470 - val_loss: 1.5595 - val_accuracy: 0.2702\n",
            "Epoch 9/50\n",
            "20/20 [==============================] - 28s 1s/step - loss: 1.5951 - accuracy: 0.2350 - val_loss: 1.5888 - val_accuracy: 0.2537\n",
            "Epoch 10/50\n",
            "20/20 [==============================] - 28s 1s/step - loss: 1.5969 - accuracy: 0.2521 - val_loss: 1.5712 - val_accuracy: 0.2537\n",
            "Epoch 11/50\n",
            "20/20 [==============================] - 28s 1s/step - loss: 1.5807 - accuracy: 0.2584 - val_loss: 1.5838 - val_accuracy: 0.2555\n",
            "Epoch 12/50\n",
            "20/20 [==============================] - 30s 1s/step - loss: 1.5723 - accuracy: 0.2533 - val_loss: 1.5842 - val_accuracy: 0.2482\n",
            "Epoch 13/50\n",
            "20/20 [==============================] - 28s 1s/step - loss: 1.5621 - accuracy: 0.2831 - val_loss: 1.5513 - val_accuracy: 0.2482\n",
            "Epoch 14/50\n",
            "20/20 [==============================] - 28s 1s/step - loss: 1.5708 - accuracy: 0.2508 - val_loss: 1.5589 - val_accuracy: 0.2555\n",
            "Epoch 15/50\n",
            "20/20 [==============================] - 28s 1s/step - loss: 1.5811 - accuracy: 0.2603 - val_loss: 1.5930 - val_accuracy: 0.2500\n",
            "Epoch 16/50\n",
            "20/20 [==============================] - 28s 1s/step - loss: 1.5754 - accuracy: 0.2660 - val_loss: 1.5782 - val_accuracy: 0.2482\n",
            "Epoch 17/50\n",
            "20/20 [==============================] - 28s 1s/step - loss: 1.5691 - accuracy: 0.2369 - val_loss: 1.5671 - val_accuracy: 0.2500\n",
            "Epoch 18/50\n",
            "20/20 [==============================] - 28s 1s/step - loss: 1.5698 - accuracy: 0.2622 - val_loss: 1.5897 - val_accuracy: 0.2445\n",
            "Epoch 19/50\n",
            "20/20 [==============================] - 29s 1s/step - loss: 1.5714 - accuracy: 0.2362 - val_loss: 1.5632 - val_accuracy: 0.2665\n",
            "Epoch 20/50\n",
            "20/20 [==============================] - 28s 1s/step - loss: 1.5671 - accuracy: 0.2369 - val_loss: 1.5519 - val_accuracy: 0.2665\n",
            "Epoch 21/50\n",
            "20/20 [==============================] - 28s 1s/step - loss: 1.5582 - accuracy: 0.2736 - val_loss: 1.5783 - val_accuracy: 0.2592\n",
            "Epoch 22/50\n",
            "20/20 [==============================] - 29s 1s/step - loss: 1.5672 - accuracy: 0.2425 - val_loss: 1.5715 - val_accuracy: 0.2702\n",
            "Epoch 23/50\n",
            "20/20 [==============================] - 28s 1s/step - loss: 1.5722 - accuracy: 0.2540 - val_loss: 1.5617 - val_accuracy: 0.2647\n",
            "Epoch 24/50\n",
            "20/20 [==============================] - 28s 1s/step - loss: 1.5686 - accuracy: 0.2565 - val_loss: 1.5713 - val_accuracy: 0.2555\n",
            "Epoch 25/50\n",
            "20/20 [==============================] - 29s 1s/step - loss: 1.5610 - accuracy: 0.2603 - val_loss: 1.5692 - val_accuracy: 0.2500\n",
            "Epoch 26/50\n",
            "20/20 [==============================] - 28s 1s/step - loss: 1.5577 - accuracy: 0.2609 - val_loss: 1.5771 - val_accuracy: 0.2555\n",
            "Epoch 27/50\n",
            "20/20 [==============================] - 28s 1s/step - loss: 1.5549 - accuracy: 0.2590 - val_loss: 1.5589 - val_accuracy: 0.2335\n",
            "Epoch 28/50\n",
            "20/20 [==============================] - 28s 1s/step - loss: 1.5619 - accuracy: 0.2413 - val_loss: 1.5558 - val_accuracy: 0.2592\n",
            "Epoch 29/50\n",
            "20/20 [==============================] - 28s 1s/step - loss: 1.5636 - accuracy: 0.2578 - val_loss: 1.5454 - val_accuracy: 0.2776\n",
            "Epoch 30/50\n",
            "20/20 [==============================] - 33s 2s/step - loss: 1.5670 - accuracy: 0.2394 - val_loss: 1.5493 - val_accuracy: 0.2555\n",
            "Epoch 31/50\n",
            "20/20 [==============================] - 34s 2s/step - loss: 1.5595 - accuracy: 0.2457 - val_loss: 1.5567 - val_accuracy: 0.2463\n",
            "Epoch 32/50\n",
            "20/20 [==============================] - 35s 2s/step - loss: 1.5586 - accuracy: 0.2584 - val_loss: 1.5466 - val_accuracy: 0.2518\n",
            "Epoch 33/50\n",
            "20/20 [==============================] - 36s 2s/step - loss: 1.5530 - accuracy: 0.2438 - val_loss: 1.5643 - val_accuracy: 0.2555\n",
            "Epoch 34/50\n",
            "20/20 [==============================] - 33s 2s/step - loss: 1.5604 - accuracy: 0.2780 - val_loss: 1.5693 - val_accuracy: 0.2537\n",
            "Epoch 35/50\n",
            "20/20 [==============================] - 28s 1s/step - loss: 1.5551 - accuracy: 0.2533 - val_loss: 1.5459 - val_accuracy: 0.2647\n",
            "Epoch 36/50\n",
            "20/20 [==============================] - 29s 1s/step - loss: 1.5505 - accuracy: 0.2578 - val_loss: 1.5622 - val_accuracy: 0.2684\n",
            "Epoch 37/50\n",
            "20/20 [==============================] - 28s 1s/step - loss: 1.5661 - accuracy: 0.2622 - val_loss: 1.5658 - val_accuracy: 0.2555\n",
            "Epoch 38/50\n",
            "20/20 [==============================] - 29s 1s/step - loss: 1.5610 - accuracy: 0.2483 - val_loss: 1.5531 - val_accuracy: 0.2555\n",
            "Epoch 39/50\n",
            "20/20 [==============================] - 29s 1s/step - loss: 1.5567 - accuracy: 0.2464 - val_loss: 1.5549 - val_accuracy: 0.2482\n",
            "Epoch 40/50\n",
            "20/20 [==============================] - 28s 1s/step - loss: 1.5581 - accuracy: 0.2559 - val_loss: 1.5676 - val_accuracy: 0.2555\n",
            "Epoch 41/50\n",
            "20/20 [==============================] - 28s 1s/step - loss: 1.5538 - accuracy: 0.2736 - val_loss: 1.5430 - val_accuracy: 0.2316\n",
            "Epoch 42/50\n",
            "20/20 [==============================] - 29s 1s/step - loss: 1.5498 - accuracy: 0.2559 - val_loss: 1.5420 - val_accuracy: 0.2647\n",
            "Epoch 43/50\n",
            "20/20 [==============================] - 28s 1s/step - loss: 1.5471 - accuracy: 0.2616 - val_loss: 1.5486 - val_accuracy: 0.2574\n",
            "Epoch 44/50\n",
            "20/20 [==============================] - 28s 1s/step - loss: 1.5489 - accuracy: 0.2622 - val_loss: 1.5521 - val_accuracy: 0.2629\n",
            "Epoch 45/50\n",
            "20/20 [==============================] - 29s 1s/step - loss: 1.5513 - accuracy: 0.2755 - val_loss: 1.5496 - val_accuracy: 0.2426\n",
            "Epoch 46/50\n",
            "20/20 [==============================] - 28s 1s/step - loss: 1.5493 - accuracy: 0.2856 - val_loss: 1.5656 - val_accuracy: 0.2463\n",
            "Epoch 47/50\n",
            "20/20 [==============================] - 28s 1s/step - loss: 1.5675 - accuracy: 0.2578 - val_loss: 1.5511 - val_accuracy: 0.2555\n",
            "Epoch 48/50\n",
            "20/20 [==============================] - 29s 1s/step - loss: 1.5603 - accuracy: 0.2470 - val_loss: 1.5521 - val_accuracy: 0.2518\n",
            "Epoch 49/50\n",
            "20/20 [==============================] - 28s 1s/step - loss: 1.5545 - accuracy: 0.2546 - val_loss: 1.5433 - val_accuracy: 0.2426\n",
            "Epoch 50/50\n",
            "20/20 [==============================] - 28s 1s/step - loss: 1.5556 - accuracy: 0.2483 - val_loss: 1.5442 - val_accuracy: 0.2445\n"
          ]
        }
      ],
      "source": [
        "history = model_resnet.fit(\n",
        "    train_generator,\n",
        "    steps_per_epoch=train_generator.samples // train_generator.batch_size,\n",
        "    epochs=EPOCHS,\n",
        "    validation_data=val_generator,\n",
        "    validation_steps=val_generator.samples // val_generator.batch_size)"
      ]
    },
    {
      "cell_type": "markdown",
      "source": [
        "## Model Evaluation"
      ],
      "metadata": {
        "id": "zBYFoA8RXfqR"
      }
    },
    {
      "cell_type": "code",
      "execution_count": null,
      "metadata": {
        "id": "LsVAF1Qsxuka",
        "colab": {
          "base_uri": "https://localhost:8080/"
        },
        "outputId": "6fafee23-06ac-4cb2-8b81-5b3214a41d95"
      },
      "outputs": [
        {
          "output_type": "stream",
          "name": "stdout",
          "text": [
            "17/17 [==============================] - 3s 91ms/step - loss: 1.3000 - accuracy: 0.5490\n",
            "Test accuracy: 0.5490196347236633\n"
          ]
        }
      ],
      "source": [
        "test_loss, test_acc = model_resnet.evaluate(test_generator, steps=test_generator.samples//batch_size)\n",
        "print('Test accuracy:', test_acc)"
      ]
    },
    {
      "cell_type": "markdown",
      "source": [
        "## Training & Validation Curve"
      ],
      "metadata": {
        "id": "SvpJF23hXia2"
      }
    },
    {
      "cell_type": "code",
      "source": [
        "def plot_training_history_RESNET50(history):\n",
        "    plt.plot(history.history['accuracy'], label='Training Accuracy')\n",
        "    plt.plot(history.history['val_accuracy'], label='Validation Accuracy')\n",
        "    plt.xlabel('Epoch')\n",
        "    plt.ylabel('Accuracy')\n",
        "    plt.legend()\n",
        "    plt.show()\n",
        "\n",
        "    plt.plot(history.history['loss'], label='Training Loss')\n",
        "    plt.plot(history.history['val_loss'], label='Validation Loss')\n",
        "    plt.xlabel('Epoch')\n",
        "    plt.ylabel('Loss')\n",
        "    plt.legend()\n",
        "    plt.show()"
      ],
      "metadata": {
        "id": "T4ercRdJaAnY"
      },
      "execution_count": null,
      "outputs": []
    },
    {
      "cell_type": "code",
      "source": [
        "plot_training_history_RESNET50(history)"
      ],
      "metadata": {
        "colab": {
          "base_uri": "https://localhost:8080/",
          "height": 881
        },
        "id": "iAVJl01wTg76",
        "outputId": "c73d7bc1-03ae-4dfb-9efd-72ad29232981"
      },
      "execution_count": null,
      "outputs": [
        {
          "output_type": "display_data",
          "data": {
            "text/plain": [
              "<Figure size 640x480 with 1 Axes>"
            ],
            "image/png": "[encoded data removed]"
          },
          "metadata": {}
        },
        {
          "output_type": "display_data",
          "data": {
            "text/plain": [
              "<Figure size 640x480 with 1 Axes>"
            ],
            "image/png": "[encoded data removed]"
          },
          "metadata": {}
        }
      ]
    },
    {
      "cell_type": "markdown",
      "source": [
        "Mode"
      ],
      "metadata": {
        "id": "AImfEAaJXndV"
      }
    },
    {
      "cell_type": "code",
      "execution_count": null,
      "metadata": {
        "id": "8wy9tIRHxxkJ",
        "colab": {
          "base_uri": "https://localhost:8080/"
        },
        "outputId": "a9b888fa-ae14-4e08-d267-bacc9730d931"
      },
      "outputs": [
        {
          "output_type": "stream",
          "name": "stderr",
          "text": [
            "/usr/local/lib/python3.10/dist-packages/keras/src/engine/training.py:3103: UserWarning: You are saving your model as an HDF5 file via `model.save()`. This file format is considered legacy. We recommend using instead the native Keras format, e.g. `model.save('my_model.keras')`.\n",
            "  saving_api.save_model(\n"
          ]
        }
      ],
      "source": [
        "MODEL_PATH = os.path.join(\"Diabetic_Retinopathy_Detector(RESNET50).h5\")\n",
        "MODEL_WEIGHTS_PATH = os.path.join(\"Diabetic_Retinopathy_Model_Weights(RESNET50).h5\")\n",
        "model_resnet.save(MODEL_PATH)"
      ]
    },
    {
      "cell_type": "markdown",
      "source": [
        "# Streamlit Buildup"
      ],
      "metadata": {
        "id": "N5_Hp2-DO_Ps"
      }
    },
    {
      "cell_type": "markdown",
      "source": [
        "## Model Loading"
      ],
      "metadata": {
        "id": "IU5SFfzkde2I"
      }
    },
    {
      "cell_type": "code",
      "source": [
        "!pip install -q pyngrok"
      ],
      "metadata": {
        "id": "fnDLEifpvHC2"
      },
      "execution_count": null,
      "outputs": []
    },
    {
      "cell_type": "code",
      "source": [
        "import gdown\n",
        "\n",
        "url = 'https://drive.google.com/uc?id=1MXyuPz3ICvaAanL0foIvJJkI-GCea3eZ'\n",
        "output = 'VGG16.h5'\n",
        "gdown.download(url, output, quiet=False)"
      ],
      "metadata": {
        "colab": {
          "base_uri": "https://localhost:8080/",
          "height": 127
        },
        "id": "pZlFxrT6dgLR",
        "outputId": "651b929c-f0f0-43e8-cae2-d545fa6a9c95"
      },
      "execution_count": null,
      "outputs": [
        {
          "output_type": "stream",
          "name": "stderr",
          "text": [
            "Downloading...\n",
            "From (original): https://drive.google.com/uc?id=1MXyuPz3ICvaAanL0foIvJJkI-GCea3eZ\n",
            "From (redirected): https://drive.google.com/uc?id=1MXyuPz3ICvaAanL0foIvJJkI-GCea3eZ&confirm=t&uuid=2684801d-379c-4860-bc34-c715d30554bb\n",
            "To: /content/VGG16.h5\n",
            "100%|██████████| 194M/194M [00:00<00:00, 224MB/s]\n"
          ]
        },
        {
          "output_type": "execute_result",
          "data": {
            "text/plain": [
              "'VGG16.h5'"
            ],
            "application/vnd.google.colaboratory.intrinsic+json": {
              "type": "string"
            }
          },
          "metadata": {},
          "execution_count": 22
        }
      ]
    },
    {
      "cell_type": "code",
      "source": [
        "from pyngrok import ngrok ,conf\n",
        "import streamlit as st\n",
        "import os\n",
        "import getpass"
      ],
      "metadata": {
        "id": "KRgWx2qgvICj"
      },
      "execution_count": null,
      "outputs": []
    },
    {
      "cell_type": "code",
      "source": [
        "app_code = \"\"\"\n",
        "import streamlit as st\n",
        "from PIL import Image\n",
        "import numpy as np\n",
        "import tensorflow as tf\n",
        "import gdown\n",
        "\n",
        "\n",
        "def predict(image, model):\n",
        "\n",
        "    image = image / 255.0\n",
        "\n",
        "    prediction = model.predict(np.expand_dims(image, axis=0))\n",
        "\n",
        "    return prediction\n",
        "\n",
        "def main():\n",
        "\n",
        "    st.title('Diabetic Retinopathy Detection App')\n",
        "\n",
        "    model = tf.keras.models.load_model('/content/VGG16.h5')\n",
        "\n",
        "    uploaded_file = st.file_uploader(\"Choose an image...\", type=[\"jpg\", \"png\", \"jpeg\"])\n",
        "\n",
        "    if uploaded_file is not None:\n",
        "        image = Image.open(uploaded_file)\n",
        "        st.image(image, caption='Uploaded Image.', use_column_width=True)\n",
        "\n",
        "        if st.button('Predict'):\n",
        "\n",
        "            prediction = predict(image, model)\n",
        "\n",
        "            st.write(\"Model Prediction:\", prediction)\n",
        "\n",
        "if __name__ == \"__main__\":\n",
        "    main()\n",
        "\n",
        "    \"\"\""
      ],
      "metadata": {
        "id": "XBVmV_NSvOJl"
      },
      "execution_count": null,
      "outputs": []
    },
    {
      "cell_type": "code",
      "source": [
        "with open(\"diabetic_retinopathy_app.py\", \"w\") as f:\n",
        "    f.write(app_code)\n",
        "\n",
        "# Start Streamlit\n",
        "!nohup streamlit run diabetic_retinopathy_app.py &\n",
        "\n",
        "print(\"Enter ur AUTH from https://dashboard.ngrok.com/auth\")\n",
        "#2Qt0zIDV6eUueAYnaYWjPdRXLpj_6WQqVKexKPYf9UKUCLZ6T\n",
        "conf.get_default().auth_token = getpass.getpass()\n",
        "port = 5000\n",
        "public_url = ngrok.connect(port).public_url\n",
        "print(f' * ngrok tunnel \\ \"{public_url}\\\" -> \\\"https://127.0.0.1:{port}\\\"')"
      ],
      "metadata": {
        "id": "V4WtVtiIvejO"
      },
      "execution_count": null,
      "outputs": []
    },
    {
      "cell_type": "code",
      "source": [
        "%%writefile diabetic_retinopathy_app.py\n",
        "import streamlit as st\n",
        "from PIL import Image\n",
        "import numpy as np\n",
        "import tensorflow as tf\n",
        "import gdown\n",
        "\n",
        "\n",
        "def predict(image, model):\n",
        "\n",
        "    image = image / 255.0\n",
        "\n",
        "    prediction = model.predict(np.expand_dims(image, axis=0))\n",
        "\n",
        "    return prediction\n",
        "\n",
        "def main():\n",
        "\n",
        "    st.title('Diabetic Retinopathy Detection App')\n",
        "\n",
        "    model = tf.keras.models.load_model('/content/VGG16.h5')\n",
        "\n",
        "    uploaded_file = st.file_uploader(\"Choose an image...\", type=[\"jpg\", \"png\", \"jpeg\"])\n",
        "\n",
        "    if uploaded_file is not None:\n",
        "        image = Image.open(uploaded_file)\n",
        "        st.image(image, caption='Uploaded Image.', use_column_width=True)\n",
        "\n",
        "        if st.button('Predict'):\n",
        "\n",
        "            prediction = predict(image, model)\n",
        "\n",
        "            st.write(\"Model Prediction:\", prediction)\n",
        "\n",
        "if __name__ == \"__main__\":\n",
        "    main()"
      ],
      "metadata": {
        "colab": {
          "base_uri": "https://localhost:8080/"
        },
        "id": "GnnPjS-rO7oq",
        "outputId": "e1743776-ddf4-4cd7-9279-a964b627629d"
      },
      "execution_count": null,
      "outputs": [
        {
          "output_type": "stream",
          "name": "stdout",
          "text": [
            "Overwriting diabetic_retinopathy_app.py\n"
          ]
        }
      ]
    },
    {
      "cell_type": "code",
      "source": [
        "!npm install localtunnel"
      ],
      "metadata": {
        "colab": {
          "base_uri": "https://localhost:8080/"
        },
        "id": "38vmy93Te4PQ",
        "outputId": "9eb755f8-466d-4be4-c82d-8d064eeb3c3f"
      },
      "execution_count": null,
      "outputs": [
        {
          "output_type": "stream",
          "name": "stdout",
          "text": [
            "\u001b[K\u001b[?25h\u001b[37;40mnpm\u001b[0m \u001b[0m\u001b[30;43mWARN\u001b[0m \u001b[0m\u001b[35msaveError\u001b[0m ENOENT: no such file or directory, open '/content/package.json'\n",
            "\u001b[0m\u001b[37;40mnpm\u001b[0m \u001b[0m\u001b[30;43mWARN\u001b[0m \u001b[0m\u001b[35menoent\u001b[0m ENOENT: no such file or directory, open '/content/package.json'\n",
            "\u001b[0m\u001b[37;40mnpm\u001b[0m \u001b[0m\u001b[30;43mWARN\u001b[0m\u001b[35m\u001b[0m content No description\n",
            "\u001b[0m\u001b[37;40mnpm\u001b[0m \u001b[0m\u001b[30;43mWARN\u001b[0m\u001b[35m\u001b[0m content No repository field.\n",
            "\u001b[0m\u001b[37;40mnpm\u001b[0m \u001b[0m\u001b[30;43mWARN\u001b[0m\u001b[35m\u001b[0m content No README data\n",
            "\u001b[0m\u001b[37;40mnpm\u001b[0m \u001b[0m\u001b[30;43mWARN\u001b[0m\u001b[35m\u001b[0m content No license field.\n",
            "\u001b[0m\n",
            "\u001b[K\u001b[?25h+ localtunnel@2.0.2\n",
            "updated 1 package and audited 36 packages in 1.348s\n",
            "\n",
            "3 packages are looking for funding\n",
            "  run `npm fund` for details\n",
            "\n",
            "found 2 \u001b[93mmoderate\u001b[0m severity vulnerabilities\n",
            "  run `npm audit fix` to fix them, or `npm audit` for details\n",
            "\u001b[K\u001b[?25h"
          ]
        }
      ]
    },
    {
      "cell_type": "code",
      "source": [
        "!streamlit run diabetic_retinopathy_app.py &>/content/logs.txt &"
      ],
      "metadata": {
        "id": "8kHKhO1_fOwR"
      },
      "execution_count": null,
      "outputs": []
    },
    {
      "cell_type": "code",
      "source": [
        "!streamlit run app.py"
      ],
      "metadata": {
        "colab": {
          "base_uri": "https://localhost:8080/"
        },
        "id": "cD3kF76hgi8I",
        "outputId": "cc5be895-8120-4146-ad76-06d262db0079"
      },
      "execution_count": null,
      "outputs": [
        {
          "output_type": "stream",
          "name": "stdout",
          "text": [
            "\n",
            "Collecting usage statistics. To deactivate, set browser.gatherUsageStats to False.\n",
            "\u001b[0m\n",
            "\u001b[0m\n",
            "\u001b[34m\u001b[1m  You can now view your Streamlit app in your browser.\u001b[0m\n",
            "\u001b[0m\n",
            "\u001b[34m  Network URL: \u001b[0m\u001b[1mhttp://172.28.0.12:8503\u001b[0m\n",
            "\u001b[34m  External URL: \u001b[0m\u001b[1mhttp://34.143.173.173:8503\u001b[0m\n",
            "\u001b[0m\n",
            "\u001b[34m  Stopping...\u001b[0m\n",
            "\u001b[34m  Stopping...\u001b[0m\n"
          ]
        }
      ]
    },
    {
      "cell_type": "code",
      "source": [
        "!npx localtunnel --port 8501"
      ],
      "metadata": {
        "colab": {
          "base_uri": "https://localhost:8080/"
        },
        "id": "zYaVKd2yfSwg",
        "outputId": "fd175f95-dbea-4634-ad03-42fddaf952b7"
      },
      "execution_count": null,
      "outputs": [
        {
          "output_type": "stream",
          "name": "stdout",
          "text": [
            "^C\n"
          ]
        }
      ]
    },
    {
      "cell_type": "markdown",
      "metadata": {
        "id": "J1laXwidDPD_"
      },
      "source": [
        "# Try your own image"
      ]
    },
    {
      "cell_type": "code",
      "execution_count": null,
      "metadata": {
        "id": "-YCU6YHa9GP_"
      },
      "outputs": [],
      "source": [
        "import requests\n",
        "from PIL import Image\n",
        "from io import BytesIO\n",
        "\n",
        "def classify_image(image_url, model):\n",
        "\n",
        "    response = requests.get(image_url)\n",
        "    img = Image.open(BytesIO(response.content))\n",
        "\n",
        "    img = img.resize((150, 150))\n",
        "    img_array = np.array(img)\n",
        "    img_array = img_array / 255.0\n",
        "    img_array = np.expand_dims(img_array, axis=0)\n",
        "\n",
        "    class_probabilities = model.predict(img_array)\n",
        "    predicted_class = np.argmax(class_probabilities)\n",
        "\n",
        "    return predicted_class"
      ]
    },
    {
      "cell_type": "code",
      "execution_count": null,
      "metadata": {
        "id": "xXuwfdebDVev"
      },
      "outputs": [],
      "source": [
        "image_url = \"URL_OF_YOUR_IMAGE\"\n",
        "predicted_class = classify_image(image_url, model_vgg)\n",
        "print(\"Predicted Class:\", predicted_class)"
      ]
    }
  ],
  "metadata": {
    "accelerator": "GPU",
    "colab": {
      "collapsed_sections": [
        "yhSBzBHn2afl",
        "Dhm-DV0Xq35R",
        "1ppAZU8Fh1zJ",
        "C4nH75xWxjlV",
        "eKUhSVa0xtTl",
        "EyS7MEL0yaxW",
        "tDl6cgY6zk5F",
        "mEKZDmlNPhGr",
        "1RFZT53qEHK4",
        "EWgoCEYexDb3"
      ],
      "provenance": [],
      "gpuType": "T4"
    },
    "kernelspec": {
      "display_name": "Python 3",
      "name": "python3"
    },
    "language_info": {
      "name": "python"
    }
  },
  "nbformat": 4,
  "nbformat_minor": 0
}