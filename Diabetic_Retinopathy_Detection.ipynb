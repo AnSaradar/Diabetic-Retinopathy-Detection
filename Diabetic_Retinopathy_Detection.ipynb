{
  "nbformat": 4,
  "nbformat_minor": 0,
  "metadata": {
    "colab": {
      "provenance": [],
      "gpuType": "T4",
      "authorship_tag": "ABX9TyP8pPN8EXwHYWXCB1wDhK6P",
      "include_colab_link": true
    },
    "kernelspec": {
      "name": "python3",
      "display_name": "Python 3"
    },
    "language_info": {
      "name": "python"
    },
    "accelerator": "GPU"
  },
  "cells": [
    {
      "cell_type": "markdown",
      "metadata": {
        "id": "view-in-github",
        "colab_type": "text"
      },
      "source": [
        "<a href=\"https://colab.research.google.com/github/AnSaradar/Diabetic-Retinopathy-Detection/blob/main/Diabetic_Retinopathy_Detection.ipynb\" target=\"_parent\"><img src=\"https://colab.research.google.com/assets/colab-badge.svg\" alt=\"Open In Colab\"/></a>"
      ]
    },
    {
      "cell_type": "markdown",
      "source": [
        "# Importing the dataset"
      ],
      "metadata": {
        "id": "V8BetczbtEwl"
      }
    },
    {
      "cell_type": "code",
      "execution_count": 1,
      "metadata": {
        "colab": {
          "base_uri": "https://localhost:8080/"
        },
        "id": "K1IMxylts-QY",
        "outputId": "c01b27ea-b008-4524-8300-264bdf6405e5"
      },
      "outputs": [
        {
          "output_type": "stream",
          "name": "stdout",
          "text": [
            "Cloning into 'diabetic-retinopathy'...\n",
            "remote: Enumerating objects: 5626, done.\u001b[K\n",
            "remote: Total 5626 (delta 0), reused 0 (delta 0), pack-reused 5626\u001b[K\n",
            "Receiving objects: 100% (5626/5626), 757.22 MiB | 25.37 MiB/s, done.\n",
            "Resolving deltas: 100% (18/18), done.\n",
            "Updating files: 100% (2784/2784), done.\n"
          ]
        }
      ],
      "source": [
        "!git clone https://github.com/kumailht/diabetic-retinopathy"
      ]
    },
    {
      "cell_type": "markdown",
      "source": [
        "# Importing Libraries"
      ],
      "metadata": {
        "id": "Xc8vbAAQtdyt"
      }
    },
    {
      "cell_type": "code",
      "source": [
        "import tensorflow as tf\n",
        "\n",
        "from keras.preprocessing.image import ImageDataGenerator\n",
        "from keras.preprocessing import image\n",
        "from keras.models import Sequential, Model\n",
        "from keras.layers import Conv2D, MaxPooling2D\n",
        "from keras.layers import Activation, Dropout, Flatten, Dense\n",
        "from keras import optimizers\n",
        "from keras.applications import VGG16\n",
        "\n",
        "import cv2\n",
        "\n",
        "import os\n",
        "import numpy as np\n",
        "import itertools\n",
        "import random\n",
        "\n",
        "from collections import Counter\n",
        "\n",
        "from glob import iglob\n",
        "\n",
        "from sklearn.metrics import confusion_matrix, classification_report\n",
        "import matplotlib.pyplot as plt\n",
        "\n",
        "\n"
      ],
      "metadata": {
        "id": "Owao-XdhtOSF"
      },
      "execution_count": 5,
      "outputs": []
    },
    {
      "cell_type": "markdown",
      "source": [
        "# Setting The Constant Hyperparameters"
      ],
      "metadata": {
        "id": "NfhUUcgCuCJN"
      }
    },
    {
      "cell_type": "code",
      "source": [
        "# Set dataset storage folder path\n",
        "BASE_DATASET_FOLDER = \"/content/diabetic-retinopathy/data\"\n",
        "TRAIN_FOLDER = \"training\"\n",
        "VALIDATION_FOLDER = \"validation\"\n",
        "TEST_FOLDER = \"test\"\n",
        "\n",
        "# ResNet50 image size\n",
        "IMAGE_SIZE = (224, 224)\n",
        "INPUT_SHAPE = (224, 224, 3)\n",
        "\n",
        "# Keras settings\n",
        "TRAIN_BATCH_SIZE = 80\n",
        "VAL_BATCH_SIZE = 15\n",
        "batch_size = 32\n",
        "EPOCHS = 50\n",
        "LEARNING_RATE = 0.0001\n",
        "\n",
        "MODEL_PATH = os.path.join(\"Diabetic_Retinopathy_Detector.h5\")\n",
        "MODEL_WEIGHTS_PATH = os.path.join(\"Diabetic_Retinopathy_Model_Weights.h5\")\n"
      ],
      "metadata": {
        "id": "STn-hFF7tkDX"
      },
      "execution_count": 16,
      "outputs": []
    },
    {
      "cell_type": "markdown",
      "source": [
        "# Setting up the GPU"
      ],
      "metadata": {
        "id": "qAfr-WnV2f6l"
      }
    },
    {
      "cell_type": "code",
      "source": [
        "tf.config.experimental.set_memory_growth(tf.config.experimental.list_physical_devices('GPU')[0], True)\n"
      ],
      "metadata": {
        "id": "kSB0KVOw2k1V"
      },
      "execution_count": 7,
      "outputs": []
    },
    {
      "cell_type": "markdown",
      "source": [
        "# Image Handling with Data Augmentation"
      ],
      "metadata": {
        "id": "yhSBzBHn2afl"
      }
    },
    {
      "cell_type": "code",
      "source": [
        "train_datagen = ImageDataGenerator(\n",
        "    rescale=1./255,\n",
        "    width_shift_range=0.2,\n",
        "    height_shift_range=0.2,\n",
        "    horizontal_flip=True,\n",
        "    fill_mode='nearest')\n",
        "\n",
        "train_generator = train_datagen.flow_from_directory(\n",
        "    os.path.join(BASE_DATASET_FOLDER, TRAIN_FOLDER),\n",
        "    target_size=IMAGE_SIZE,\n",
        "    batch_size=TRAIN_BATCH_SIZE,\n",
        "    class_mode='categorical',\n",
        "    shuffle=True)\n",
        "\n",
        "\n",
        "val_datagen = ImageDataGenerator(rescale=1./255)\n",
        "val_generator = val_datagen.flow_from_directory(\n",
        "    os.path.join(BASE_DATASET_FOLDER, VALIDATION_FOLDER),\n",
        "    target_size=IMAGE_SIZE,\n",
        "    class_mode='categorical',\n",
        "    shuffle=False)\n",
        "\n",
        "test_datagen = ImageDataGenerator(rescale=1./255)\n",
        "test_generator = test_datagen.flow_from_directory(\n",
        "    os.path.join(BASE_DATASET_FOLDER, TEST_FOLDER),\n",
        "    target_size=IMAGE_SIZE,\n",
        "    batch_size=VAL_BATCH_SIZE,\n",
        "    class_mode='categorical',\n",
        "    shuffle=False)\n",
        "\n",
        "\n"
      ],
      "metadata": {
        "colab": {
          "base_uri": "https://localhost:8080/"
        },
        "id": "Wao7ZuhauRmb",
        "outputId": "c7b678a5-133f-4407-809c-bd811f51b1e4"
      },
      "execution_count": 8,
      "outputs": [
        {
          "output_type": "stream",
          "name": "stdout",
          "text": [
            "Found 1659 images belonging to 5 classes.\n",
            "Found 550 images belonging to 5 classes.\n",
            "Found 560 images belonging to 5 classes.\n"
          ]
        }
      ]
    },
    {
      "cell_type": "markdown",
      "source": [
        "# Model Building & Training"
      ],
      "metadata": {
        "id": "qVjYXdIAxfqF"
      }
    },
    {
      "cell_type": "markdown",
      "source": [
        "## Importing VGG Model (Transfer Learning)"
      ],
      "metadata": {
        "id": "C4nH75xWxjlV"
      }
    },
    {
      "cell_type": "code",
      "source": [
        "vgg_model = VGG16(weights='imagenet', include_top=False, input_shape=INPUT_SHAPE)\n",
        "for layer in vgg_model.layers[:-4]:\n",
        "    layer.trainable = False"
      ],
      "metadata": {
        "colab": {
          "base_uri": "https://localhost:8080/"
        },
        "id": "DlXWa7mxvwlV",
        "outputId": "8c5fdf82-c068-44ef-e797-614a78f9a170"
      },
      "execution_count": 9,
      "outputs": [
        {
          "output_type": "stream",
          "name": "stdout",
          "text": [
            "Downloading data from https://storage.googleapis.com/tensorflow/keras-applications/vgg16/vgg16_weights_tf_dim_ordering_tf_kernels_notop.h5\n",
            "58889256/58889256 [==============================] - 0s 0us/step\n"
          ]
        }
      ]
    },
    {
      "cell_type": "markdown",
      "source": [
        "## Building The CNN Architicture"
      ],
      "metadata": {
        "id": "eKUhSVa0xtTl"
      }
    },
    {
      "cell_type": "code",
      "source": [
        "model = Sequential()\n",
        "model.add(vgg_model)\n",
        "model.add(Flatten())\n",
        "model.add(Dense(256, activation='relu'))\n",
        "model.add(Dropout(0.2))\n",
        "model.add(Dense(128, activation='relu'))\n",
        "model.add(Dropout(0.3))\n",
        "model.add(Dense(5, activation='softmax'))"
      ],
      "metadata": {
        "id": "Ib76DF4sxrfI"
      },
      "execution_count": 10,
      "outputs": []
    },
    {
      "cell_type": "code",
      "source": [
        "model.summary()"
      ],
      "metadata": {
        "colab": {
          "base_uri": "https://localhost:8080/"
        },
        "id": "-JwOIQKFx1UT",
        "outputId": "19e4bb35-f42a-40fc-8b35-c73ac86315ae"
      },
      "execution_count": 11,
      "outputs": [
        {
          "output_type": "stream",
          "name": "stdout",
          "text": [
            "Model: \"sequential\"\n",
            "_________________________________________________________________\n",
            " Layer (type)                Output Shape              Param #   \n",
            "=================================================================\n",
            " vgg16 (Functional)          (None, 7, 7, 512)         14714688  \n",
            "                                                                 \n",
            " flatten (Flatten)           (None, 25088)             0         \n",
            "                                                                 \n",
            " dense (Dense)               (None, 256)               6422784   \n",
            "                                                                 \n",
            " dropout (Dropout)           (None, 256)               0         \n",
            "                                                                 \n",
            " dense_1 (Dense)             (None, 128)               32896     \n",
            "                                                                 \n",
            " dropout_1 (Dropout)         (None, 128)               0         \n",
            "                                                                 \n",
            " dense_2 (Dense)             (None, 5)                 645       \n",
            "                                                                 \n",
            "=================================================================\n",
            "Total params: 21171013 (80.76 MB)\n",
            "Trainable params: 13535749 (51.63 MB)\n",
            "Non-trainable params: 7635264 (29.13 MB)\n",
            "_________________________________________________________________\n"
          ]
        }
      ]
    },
    {
      "cell_type": "markdown",
      "source": [
        "## Model Compiling"
      ],
      "metadata": {
        "id": "EyS7MEL0yaxW"
      }
    },
    {
      "cell_type": "code",
      "source": [
        "model.compile(loss='categorical_crossentropy',\n",
        "              optimizer=optimizers.Adam(lr=LEARNING_RATE),\n",
        "              metrics=['acc'])"
      ],
      "metadata": {
        "colab": {
          "base_uri": "https://localhost:8080/"
        },
        "id": "lRAlatlrx-Rq",
        "outputId": "4b04b842-15c3-428e-c4ab-3588d09d8110"
      },
      "execution_count": 12,
      "outputs": [
        {
          "output_type": "stream",
          "name": "stderr",
          "text": [
            "WARNING:absl:`lr` is deprecated in Keras optimizer, please use `learning_rate` or use the legacy optimizer, e.g.,tf.keras.optimizers.legacy.Adam.\n"
          ]
        }
      ]
    },
    {
      "cell_type": "markdown",
      "source": [
        "## Model Fitting"
      ],
      "metadata": {
        "id": "tDl6cgY6zk5F"
      }
    },
    {
      "cell_type": "code",
      "source": [
        "history = model.fit_generator(\n",
        "    train_generator,\n",
        "    steps_per_epoch=train_generator.samples // train_generator.batch_size,\n",
        "    epochs=EPOCHS,\n",
        "    validation_data=val_generator,\n",
        "    validation_steps=val_generator.samples // val_generator.batch_size)"
      ],
      "metadata": {
        "colab": {
          "base_uri": "https://localhost:8080/"
        },
        "id": "SphhUM08znc_",
        "outputId": "68ad81f0-8e15-4fb9-e457-b9fb5c6a79b4"
      },
      "execution_count": 13,
      "outputs": [
        {
          "metadata": {
            "tags": null
          },
          "name": "stderr",
          "output_type": "stream",
          "text": [
            "<ipython-input-13-b954039d9a5d>:1: UserWarning: `Model.fit_generator` is deprecated and will be removed in a future version. Please use `Model.fit`, which supports generators.\n",
            "  history = model.fit_generator(\n"
          ]
        },
        {
          "output_type": "stream",
          "name": "stdout",
          "text": [
            "Epoch 1/50\n",
            "20/20 [==============================] - 58s 2s/step - loss: 2.0613 - acc: 0.2438 - val_loss: 1.6357 - val_acc: 0.2574\n",
            "Epoch 2/50\n",
            "20/20 [==============================] - 28s 1s/step - loss: 1.6260 - acc: 0.2489 - val_loss: 1.5533 - val_acc: 0.2555\n",
            "Epoch 3/50\n",
            "20/20 [==============================] - 28s 1s/step - loss: 1.5748 - acc: 0.2362 - val_loss: 1.5607 - val_acc: 0.2555\n",
            "Epoch 4/50\n",
            "20/20 [==============================] - 28s 1s/step - loss: 1.5600 - acc: 0.2533 - val_loss: 1.5459 - val_acc: 0.2555\n",
            "Epoch 5/50\n",
            "20/20 [==============================] - 30s 2s/step - loss: 1.5530 - acc: 0.2514 - val_loss: 1.5419 - val_acc: 0.2555\n",
            "Epoch 6/50\n",
            "20/20 [==============================] - 28s 1s/step - loss: 1.5509 - acc: 0.2470 - val_loss: 1.5410 - val_acc: 0.2555\n",
            "Epoch 7/50\n",
            "20/20 [==============================] - 28s 1s/step - loss: 1.5512 - acc: 0.2508 - val_loss: 1.5415 - val_acc: 0.2555\n",
            "Epoch 8/50\n",
            "20/20 [==============================] - 29s 1s/step - loss: 1.5499 - acc: 0.2616 - val_loss: 1.5416 - val_acc: 0.2555\n",
            "Epoch 9/50\n",
            "20/20 [==============================] - 28s 1s/step - loss: 1.5554 - acc: 0.2451 - val_loss: 1.5415 - val_acc: 0.2555\n",
            "Epoch 10/50\n",
            "20/20 [==============================] - 28s 1s/step - loss: 1.5516 - acc: 0.2413 - val_loss: 1.5417 - val_acc: 0.2555\n",
            "Epoch 11/50\n",
            "20/20 [==============================] - 30s 1s/step - loss: 1.5517 - acc: 0.2533 - val_loss: 1.5412 - val_acc: 0.2555\n",
            "Epoch 12/50\n",
            "20/20 [==============================] - 28s 1s/step - loss: 1.5535 - acc: 0.2286 - val_loss: 1.5413 - val_acc: 0.2555\n",
            "Epoch 13/50\n",
            "20/20 [==============================] - 30s 1s/step - loss: 1.5529 - acc: 0.2571 - val_loss: 1.5415 - val_acc: 0.2555\n",
            "Epoch 14/50\n",
            "20/20 [==============================] - 28s 1s/step - loss: 1.5518 - acc: 0.2445 - val_loss: 1.5412 - val_acc: 0.2555\n",
            "Epoch 15/50\n",
            "20/20 [==============================] - 28s 1s/step - loss: 1.5504 - acc: 0.2470 - val_loss: 1.5419 - val_acc: 0.2555\n",
            "Epoch 16/50\n",
            "20/20 [==============================] - 30s 2s/step - loss: 1.5538 - acc: 0.2324 - val_loss: 1.5413 - val_acc: 0.2555\n",
            "Epoch 17/50\n",
            "20/20 [==============================] - 28s 1s/step - loss: 1.5525 - acc: 0.2457 - val_loss: 1.5411 - val_acc: 0.2555\n",
            "Epoch 18/50\n",
            "20/20 [==============================] - 28s 1s/step - loss: 1.5497 - acc: 0.2483 - val_loss: 1.5410 - val_acc: 0.2555\n",
            "Epoch 19/50\n",
            "20/20 [==============================] - 30s 1s/step - loss: 1.5489 - acc: 0.2812 - val_loss: 1.5409 - val_acc: 0.2555\n",
            "Epoch 20/50\n",
            "20/20 [==============================] - 28s 1s/step - loss: 1.5531 - acc: 0.2470 - val_loss: 1.5412 - val_acc: 0.2555\n",
            "Epoch 21/50\n",
            "20/20 [==============================] - 28s 1s/step - loss: 1.5490 - acc: 0.2438 - val_loss: 1.5412 - val_acc: 0.2555\n",
            "Epoch 22/50\n",
            "20/20 [==============================] - 28s 1s/step - loss: 1.5538 - acc: 0.2540 - val_loss: 1.5416 - val_acc: 0.2555\n",
            "Epoch 23/50\n",
            "20/20 [==============================] - 28s 1s/step - loss: 1.5506 - acc: 0.2527 - val_loss: 1.5410 - val_acc: 0.2555\n",
            "Epoch 24/50\n",
            "20/20 [==============================] - 28s 1s/step - loss: 1.5502 - acc: 0.2394 - val_loss: 1.5414 - val_acc: 0.2555\n",
            "Epoch 25/50\n",
            "20/20 [==============================] - 28s 1s/step - loss: 1.5505 - acc: 0.2495 - val_loss: 1.5413 - val_acc: 0.2555\n",
            "Epoch 26/50\n",
            "20/20 [==============================] - 28s 1s/step - loss: 1.5539 - acc: 0.2343 - val_loss: 1.5418 - val_acc: 0.2555\n",
            "Epoch 27/50\n",
            "20/20 [==============================] - 28s 1s/step - loss: 1.5521 - acc: 0.2450 - val_loss: 1.5414 - val_acc: 0.2555\n",
            "Epoch 28/50\n",
            "20/20 [==============================] - 28s 1s/step - loss: 1.5524 - acc: 0.2635 - val_loss: 1.5412 - val_acc: 0.2555\n",
            "Epoch 29/50\n",
            "20/20 [==============================] - 28s 1s/step - loss: 1.5534 - acc: 0.2768 - val_loss: 1.5414 - val_acc: 0.2555\n",
            "Epoch 30/50\n",
            "20/20 [==============================] - 28s 1s/step - loss: 1.5507 - acc: 0.2565 - val_loss: 1.5410 - val_acc: 0.2555\n",
            "Epoch 31/50\n",
            "20/20 [==============================] - 27s 1s/step - loss: 1.5515 - acc: 0.2381 - val_loss: 1.5409 - val_acc: 0.2555\n",
            "Epoch 32/50\n",
            "20/20 [==============================] - 28s 1s/step - loss: 1.5496 - acc: 0.2533 - val_loss: 1.5407 - val_acc: 0.2555\n",
            "Epoch 33/50\n",
            "20/20 [==============================] - 28s 1s/step - loss: 1.5532 - acc: 0.2540 - val_loss: 1.5412 - val_acc: 0.2555\n",
            "Epoch 34/50\n",
            "20/20 [==============================] - 30s 1s/step - loss: 1.5535 - acc: 0.2641 - val_loss: 1.5414 - val_acc: 0.2555\n",
            "Epoch 35/50\n",
            "20/20 [==============================] - 28s 1s/step - loss: 1.5529 - acc: 0.2571 - val_loss: 1.5417 - val_acc: 0.2555\n",
            "Epoch 36/50\n",
            "20/20 [==============================] - 27s 1s/step - loss: 1.5471 - acc: 0.2616 - val_loss: 1.5407 - val_acc: 0.2555\n",
            "Epoch 37/50\n",
            "20/20 [==============================] - 28s 1s/step - loss: 1.5494 - acc: 0.2394 - val_loss: 1.5412 - val_acc: 0.2555\n",
            "Epoch 38/50\n",
            "20/20 [==============================] - 28s 1s/step - loss: 1.5514 - acc: 0.2527 - val_loss: 1.5409 - val_acc: 0.2555\n",
            "Epoch 39/50\n",
            "20/20 [==============================] - 28s 1s/step - loss: 1.5508 - acc: 0.2432 - val_loss: 1.5413 - val_acc: 0.2555\n",
            "Epoch 40/50\n",
            "20/20 [==============================] - 28s 1s/step - loss: 1.5534 - acc: 0.2457 - val_loss: 1.5412 - val_acc: 0.2555\n",
            "Epoch 41/50\n",
            "20/20 [==============================] - 28s 1s/step - loss: 1.5552 - acc: 0.2457 - val_loss: 1.5421 - val_acc: 0.2555\n",
            "Epoch 42/50\n",
            "20/20 [==============================] - 28s 1s/step - loss: 1.5501 - acc: 0.2489 - val_loss: 1.5411 - val_acc: 0.2555\n",
            "Epoch 43/50\n",
            "20/20 [==============================] - 27s 1s/step - loss: 1.5541 - acc: 0.2514 - val_loss: 1.5416 - val_acc: 0.2555\n",
            "Epoch 44/50\n",
            "20/20 [==============================] - 30s 1s/step - loss: 1.5516 - acc: 0.2495 - val_loss: 1.5417 - val_acc: 0.2555\n",
            "Epoch 45/50\n",
            "20/20 [==============================] - 28s 1s/step - loss: 1.5502 - acc: 0.2533 - val_loss: 1.5408 - val_acc: 0.2555\n",
            "Epoch 46/50\n",
            "20/20 [==============================] - 30s 1s/step - loss: 1.5518 - acc: 0.2476 - val_loss: 1.5412 - val_acc: 0.2555\n",
            "Epoch 47/50\n",
            "20/20 [==============================] - 28s 1s/step - loss: 1.5529 - acc: 0.2495 - val_loss: 1.5417 - val_acc: 0.2555\n",
            "Epoch 48/50\n",
            "20/20 [==============================] - 30s 1s/step - loss: 1.5522 - acc: 0.2470 - val_loss: 1.5409 - val_acc: 0.2555\n",
            "Epoch 49/50\n",
            "20/20 [==============================] - 27s 1s/step - loss: 1.5534 - acc: 0.2616 - val_loss: 1.5411 - val_acc: 0.2555\n",
            "Epoch 50/50\n",
            "20/20 [==============================] - 28s 1s/step - loss: 1.5516 - acc: 0.2521 - val_loss: 1.5412 - val_acc: 0.2555\n"
          ]
        }
      ]
    },
    {
      "cell_type": "markdown",
      "source": [
        "## Save The Model & The Weights"
      ],
      "metadata": {
        "id": "ksdBKZ58zotl"
      }
    },
    {
      "cell_type": "code",
      "source": [
        "model.save(MODEL_PATH)\n"
      ],
      "metadata": {
        "id": "pf6qDqvTzupr"
      },
      "execution_count": null,
      "outputs": []
    },
    {
      "cell_type": "markdown",
      "source": [
        "# Testing The Model"
      ],
      "metadata": {
        "id": "fM-dtJSP9Cao"
      }
    },
    {
      "cell_type": "code",
      "source": [
        "test_loss, test_accuracy = model.evaluate(test_generator, steps=test_generator.n // batch_size)\n",
        "print(\"Test Accuracy:\", test_accuracy)"
      ],
      "metadata": {
        "colab": {
          "base_uri": "https://localhost:8080/"
        },
        "id": "nMv8Tgjn9E4f",
        "outputId": "c226ef27-1b9e-4782-8374-f0c868e3d52d"
      },
      "execution_count": 17,
      "outputs": [
        {
          "output_type": "stream",
          "name": "stdout",
          "text": [
            "17/17 [==============================] - 1s 75ms/step - loss: 1.3737 - acc: 0.5529\n",
            "Test Accuracy: 0.5529412031173706\n"
          ]
        }
      ]
    },
    {
      "cell_type": "markdown",
      "source": [
        "# Training & Validation Curve"
      ],
      "metadata": {
        "id": "1RFZT53qEHK4"
      }
    },
    {
      "cell_type": "code",
      "source": [
        "def plot_training_history(history):\n",
        "    plt.plot(history.history['acc'], label='Training Accuracy')\n",
        "    plt.plot(history.history['val_acc'], label='Validation Accuracy')\n",
        "    plt.xlabel('Epoch')\n",
        "    plt.ylabel('Accuracy')\n",
        "    plt.legend()\n",
        "    plt.show()\n",
        "\n",
        "    plt.plot(history.history['loss'], label='Training Loss')\n",
        "    plt.plot(history.history['val_loss'], label='Validation Loss')\n",
        "    plt.xlabel('Epoch')\n",
        "    plt.ylabel('Loss')\n",
        "    plt.legend()\n",
        "    plt.show()"
      ],
      "metadata": {
        "id": "8yJHi0EFFatv"
      },
      "execution_count": 31,
      "outputs": []
    },
    {
      "cell_type": "code",
      "source": [
        "plot_training_history(history)"
      ],
      "metadata": {
        "colab": {
          "base_uri": "https://localhost:8080/",
          "height": 881
        },
        "id": "WeX69LQqFcTA",
        "outputId": "d0db681c-8736-4ec7-87a6-63e8b41ed576"
      },
      "execution_count": 32,
      "outputs": [
        {
          "output_type": "display_data",
          "data": {
            "text/plain": [
              "<Figure size 640x480 with 1 Axes>"
            ],
            "image/png": "[encoded data removed]"
          },
          "metadata": {}
        },
        {
          "output_type": "display_data",
          "data": {
            "text/plain": [
              "<Figure size 640x480 with 1 Axes>"
            ],
            "image/png": "[encoded data removed]"
          },
          "metadata": {}
        }
      ]
    },
    {
      "cell_type": "markdown",
      "source": [
        "# Try your own image"
      ],
      "metadata": {
        "id": "J1laXwidDPD_"
      }
    },
    {
      "cell_type": "code",
      "source": [
        "import requests\n",
        "from PIL import Image\n",
        "from io import BytesIO\n",
        "\n",
        "def classify_image(image_url, model):\n",
        "\n",
        "    response = requests.get(image_url)\n",
        "    img = Image.open(BytesIO(response.content))\n",
        "\n",
        "    img = img.resize((150, 150))\n",
        "    img_array = np.array(img)\n",
        "    img_array = img_array / 255.0\n",
        "    img_array = np.expand_dims(img_array, axis=0)\n",
        "\n",
        "    class_probabilities = model.predict(img_array)\n",
        "    predicted_class = np.argmax(class_probabilities)\n",
        "\n",
        "    return predicted_class"
      ],
      "metadata": {
        "id": "-YCU6YHa9GP_"
      },
      "execution_count": 18,
      "outputs": []
    },
    {
      "cell_type": "code",
      "source": [
        "image_url = \"URL_OF_YOUR_IMAGE\"\n",
        "predicted_class = classify_image(image_url, model)\n",
        "print(\"Predicted Class:\", predicted_class)"
      ],
      "metadata": {
        "id": "xXuwfdebDVev"
      },
      "execution_count": null,
      "outputs": []
    }
  ]
}